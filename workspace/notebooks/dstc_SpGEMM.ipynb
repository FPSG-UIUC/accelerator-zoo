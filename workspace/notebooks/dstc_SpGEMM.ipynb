{
 "cells": [
  {
   "attachments": {},
   "cell_type": "markdown",
   "id": "6006d1d6-5d5e-43d9-a33d-d365b453d549",
   "metadata": {},
   "source": [
    "# DSTC\n",
    "\n",
    "This notebook reproduces the salient characteristics of the [DSTC](https://dl.acm.org/doi/10.1109/ISCA52012.2021.00088) accelerator."
   ]
  },
  {
   "attachments": {},
   "cell_type": "markdown",
   "id": "5f563412-8f61-43d7-a883-739b55f05617",
   "metadata": {},
   "source": [
    "## Imports\n",
    "\n",
    "Import the necessary modules."
   ]
  },
  {
   "cell_type": "code",
   "execution_count": 1,
   "id": "c44f246e-9f6c-4842-b188-656164ef7e2d",
   "metadata": {},
   "outputs": [
    {
     "name": "stdout",
     "output_type": "stream",
     "text": [
      "Running bootstrap\n",
      "The fibertree module is already installed and available to import\n"
     ]
    },
    {
     "data": {
      "application/vnd.jupyter.widget-view+json": {
       "model_id": "2d45735a1ce54b8188d426383c081066",
       "version_major": 2,
       "version_minor": 0
      },
      "text/plain": [
       "interactive(children=(Dropdown(description='style', options=('tree', 'uncompressed', 'tree+uncompressed'), val…"
      ]
     },
     "metadata": {},
     "output_type": "display_data"
    },
    {
     "data": {
      "application/vnd.jupyter.widget-view+json": {
       "model_id": "b8ee46408ef547bdaaec33970fd785d5",
       "version_major": 2,
       "version_minor": 0
      },
      "text/plain": [
       "Button(description='Run all cells below', style=ButtonStyle())"
      ]
     },
     "metadata": {},
     "output_type": "display_data"
    }
   ],
   "source": [
    "# HiFiber boilerplate\n",
    "\n",
    "from fibertree_bootstrap import *\n",
    "\n",
    "fibertree_bootstrap(style=\"tree\", animation='movie')\n",
    "\n",
    "# Compilation boilerplate\n",
    "\n",
    "import os\n",
    "import sys\n",
    "sys.path.insert(0, \"..\")\n",
    "\n",
    "from src import utils"
   ]
  },
  {
   "attachments": {},
   "cell_type": "markdown",
   "id": "bdcb3d73-446d-4cac-b396-e71d80bc739f",
   "metadata": {},
   "source": [
    "## Initialization\n",
    "\n",
    "Initialize the input tensors. Tensor shapes and densities can be modified below.\n",
    "\n",
    "**Warning:** Large tensors will overwhelm the video generation. Either:\n",
    "1. Use small tensors; as a rule of thumb, fewer than 60 computes (e.g., multiplications) should be required.\n",
    "2. Do not generate a video; remove the `spacetime` specification from the `mapping` before compiling."
   ]
  },
  {
   "cell_type": "code",
   "execution_count": 58,
   "id": "5ae8d7b0-9cde-423e-a118-4798e94a3780",
   "metadata": {},
   "outputs": [],
   "source": [
    "K = 4\n",
    "M = 12\n",
    "N = 8\n",
    "\n",
    "density = [0.9, 0.5]\n",
    "seed = 0\n",
    "\n",
    "A_KM = Tensor.fromRandom(rank_ids=[\"K\", \"M\"], shape=[K, M], seed=seed, density=density, name=\"A\")\n",
    "B_KN = Tensor.fromRandom(rank_ids=[\"K\", \"N\"], shape=[K, N], seed=seed + 1, density=density, name=\"B\")"
   ]
  },
  {
   "attachments": {},
   "cell_type": "markdown",
   "id": "adf9d02e-f496-482f-ad4c-3c3ca4f02312",
   "metadata": {},
   "source": [
    "## Compile and Run\n",
    "\n",
    "Below is the TeAAL specification for Gamma. To simulate the accelerator:\n",
    "1. Compile it to HiFiber by running the cell, inserting a new cell\n",
    "2. Run the new cell, which will\n",
    "    - Execute the kernel; multiplying the above defined matrices\n",
    "    - Generate visualizations of the actions of the kernel\n",
    "\n",
    "#### Notes\n",
    "- Small tensors are required for video generation. Partition shapes are decreased accordingly for visualization purposes.\n",
    "- If you are using large tensors, remove the spacetime specification to generate a kernel that does not produce videos. Outputs can still be checked below."
   ]
  },
  {
   "cell_type": "code",
   "execution_count": 62,
   "id": "bc5f371b-cdf8-4038-9abb-f517e6707457",
   "metadata": {},
   "outputs": [],
   "source": [
    "yaml = \"\"\"\n",
    "einsum:\n",
    "  declaration:\n",
    "    A: [K, M]\n",
    "    B: [K, N]\n",
    "    T: [K, M, N]\n",
    "    Z: [M, N]\n",
    "  expressions:\n",
    "    # - T[k, m, n] = A[k, m] * B[k, n]\n",
    "    - Z[m, n] = A[k, m] * B[k, n]\n",
    "mapping:\n",
    "  rank-order:\n",
    "    A: [K, M]\n",
    "    B: [K, N]\n",
    "    # T: [M, K, N]\n",
    "    Z: [M, N]\n",
    "  partitioning:\n",
    "    Z:\n",
    "      M: [uniform_occupancy(A.4), uniform_occupancy(A.8), uniform_occupancy(A.4)] \n",
    "      N: [uniform_occupancy(A.4), uniform_occupancy(B.16), uniform_occupancy(B.4)]\n",
    "    # Z:\n",
    "    #   M: [uniform_occupancy(T.4)]\n",
    "    #   N: [uniform_occupancy(T.4)]\n",
    "  loop-order:\n",
    "    Z: [K, M3, N3, M2, N2, M1, N1, M0, N0]\n",
    "    # Z: [M1, N1, M0, N0, K]\n",
    "  spacetime:\n",
    "    Z:\n",
    "      space: [M2, N2, M1, N1, N0]\n",
    "      time: [K, M3, N3, M0]\n",
    "    # Z:\n",
    "    #   space: [M0, N0]\n",
    "    #   time: [M1, N1, K]\n",
    "\"\"\"\n",
    "\n",
    "utils.compile(yaml)"
   ]
  },
  {
   "cell_type": "code",
   "execution_count": 63,
   "id": "38c7f20c",
   "metadata": {},
   "outputs": [
    {
     "data": {
      "application/vnd.jupyter.widget-view+json": {
       "model_id": "525997841f144531af8c25a56b0ba2f1",
       "version_major": 2,
       "version_minor": 0
      },
      "text/plain": [
       "  0%|          | 0/7 [00:00<?, ?it/s]"
      ]
     },
     "metadata": {},
     "output_type": "display_data"
    },
    {
     "data": {
      "text/html": [
       "<video src=\"./tmp/eLupQXKZCs.mp4\"  loop autoplay controls  width=\"800\" >\n",
       "      Your browser does not support the <code>video</code> element.\n",
       "    </video>"
      ],
      "text/plain": [
       "<IPython.core.display.Video object>"
      ]
     },
     "metadata": {},
     "output_type": "display_data"
    },
    {
     "data": {
      "application/vnd.jupyter.widget-view+json": {
       "model_id": "820c5276f19646b3ac734fb217ab4183",
       "version_major": 2,
       "version_minor": 0
      },
      "text/plain": [
       "  0%|          | 0/14 [00:00<?, ?it/s]"
      ]
     },
     "metadata": {},
     "output_type": "display_data"
    },
    {
     "data": {
      "text/html": [
       "<video src=\"./tmp/bMbsizZOHE.mp4\"  loop autoplay controls  width=\"800\" >\n",
       "      Your browser does not support the <code>video</code> element.\n",
       "    </video>"
      ],
      "text/plain": [
       "<IPython.core.display.Video object>"
      ]
     },
     "metadata": {},
     "output_type": "display_data"
    }
   ],
   "source": [
    "# Autogenerated HiFiber\n",
    "\n",
    "T_KM2N2M1N1M0N0 = Tensor(rank_ids=[\"K\", \"M2\", \"N2\", \"M1\", \"N1\", \"M0\", \"N0\"], name=\"T\")\n",
    "t_k = T_KM2N2M1N1M0N0.getRoot()\n",
    "a_k = A_KM.getRoot()\n",
    "b_k = B_KN.getRoot()\n",
    "canvas = createCanvas(A_KM, B_KN, T_KM2N2M1N1M0N0)\n",
    "for k_pos, (k, (t_m2, (a_m, b_n))) in enumerate(t_k << (a_k & b_k)):\n",
    "    A_M = Tensor.fromFiber(rank_ids=[\"M\"], fiber=a_m, name=\"A\")\n",
    "    B_N = Tensor.fromFiber(rank_ids=[\"N\"], fiber=b_n, name=\"B\")\n",
    "    tmp0 = A_M\n",
    "    tmp1 = tmp0.splitEqual(4)\n",
    "    A_M2M1I = tmp1\n",
    "    A_M2M1I.setRankIds(rank_ids=[\"M2\", \"M1I\"])\n",
    "    tmp2 = B_N\n",
    "    tmp3 = tmp2.splitEqual(4)\n",
    "    B_N2N1I = tmp3\n",
    "    B_N2N1I.setRankIds(rank_ids=[\"N2\", \"N1I\"])\n",
    "    a_m2 = A_M2M1I.getRoot()\n",
    "    b_n2 = B_N2N1I.getRoot()\n",
    "    for m2_pos, (m2, (t_n2, a_m1i)) in enumerate(t_m2 << a_m2):\n",
    "        A_M1I = Tensor.fromFiber(rank_ids=[\"M1I\"], fiber=a_m1i, name=\"A\")\n",
    "        tmp4 = A_M1I\n",
    "        tmp5 = tmp4.splitEqual(2)\n",
    "        A_M1M0 = tmp5\n",
    "        A_M1M0.setRankIds(rank_ids=[\"M1\", \"M0\"])\n",
    "        a_m1 = A_M1M0.getRoot()\n",
    "        for n2_pos, (n2, (t_m1, b_n1i)) in enumerate(t_n2 << b_n2):\n",
    "            B_N1I = Tensor.fromFiber(rank_ids=[\"N1I\"], fiber=b_n1i, name=\"B\")\n",
    "            tmp6 = B_N1I\n",
    "            tmp7 = tmp6.splitEqual(2)\n",
    "            B_N1N0 = tmp7\n",
    "            B_N1N0.setRankIds(rank_ids=[\"N1\", \"N0\"])\n",
    "            b_n1 = B_N1N0.getRoot()\n",
    "            for m1_pos, (m1, (t_n1, a_m0)) in enumerate(t_m1 << a_m1):\n",
    "                for n1_pos, (n1, (t_m0, b_n0)) in enumerate(t_n1 << b_n1):\n",
    "                    for m0_pos, (m0, (t_n0, a_val)) in enumerate(t_m0 << a_m0):\n",
    "                        for n0_pos, (n0, (t_ref, b_val)) in enumerate(t_n0 << b_n0):\n",
    "                            t_ref += a_val * b_val\n",
    "                            canvas.addActivity((k, m0), (k, n0), (k, m2, n2, m1, n1, m0, n0), spacetime=((m1_pos, n1_pos, n0_pos), (k_pos, m2_pos, n2_pos, m0_pos)))\n",
    "tmp8 = T_KM2N2M1N1M0N0\n",
    "tmp9 = tmp8.swizzleRanks(rank_ids=[\"M2\", \"M1\", \"M0\", \"K\", \"N2\", \"N1\", \"N0\"])\n",
    "tmp10 = tmp9.mergeRanks(depth=0, levels=2, coord_style=\"absolute\")\n",
    "tmp11 = tmp10.mergeRanks(depth=2, levels=2, coord_style=\"absolute\")\n",
    "tmp11.setRankIds(rank_ids=[\"M\", \"K\", \"N\"])\n",
    "T_MKN = tmp11\n",
    "displayCanvas(canvas)\n",
    "Z_M1N1M0N0 = Tensor(rank_ids=[\"M1\", \"N1\", \"M0\", \"N0\"], name=\"Z\")\n",
    "T_MNK = T_MKN.swizzleRanks(rank_ids=[\"M\", \"N\", \"K\"])\n",
    "z_m1 = Z_M1N1M0N0.getRoot()\n",
    "t_m = T_MNK.getRoot()\n",
    "canvas = createCanvas(T_MNK, Z_M1N1M0N0)\n",
    "T_MNK = Tensor.fromFiber(rank_ids=[\"M\", \"N\", \"K\"], fiber=t_m, name=\"T\")\n",
    "tmp12 = T_MNK\n",
    "tmp13 = tmp12.splitEqual(2)\n",
    "T_M1M0NK = tmp13\n",
    "T_M1M0NK.setRankIds(rank_ids=[\"M1\", \"M0\", \"N\", \"K\"])\n",
    "T_M1NM0K = T_M1M0NK.swizzleRanks(rank_ids=[\"M1\", \"N\", \"M0\", \"K\"])\n",
    "t_m1 = T_M1NM0K.getRoot()\n",
    "for m1_pos, (m1, (z_n1, t_n)) in enumerate(z_m1 << t_m1):\n",
    "    T_NM0K = Tensor.fromFiber(rank_ids=[\"N\", \"M0\", \"K\"], fiber=t_n, name=\"T\")\n",
    "    tmp14 = T_NM0K\n",
    "    tmp15 = tmp14.splitEqual(2)\n",
    "    T_N1N0M0K = tmp15\n",
    "    T_N1N0M0K.setRankIds(rank_ids=[\"N1\", \"N0\", \"M0\", \"K\"])\n",
    "    T_N1M0N0K = T_N1N0M0K.swizzleRanks(rank_ids=[\"N1\", \"M0\", \"N0\", \"K\"])\n",
    "    t_n1 = T_N1M0N0K.getRoot()\n",
    "    for n1_pos, (n1, (z_m0, t_m0)) in enumerate(z_n1 << t_n1):\n",
    "        for m0_pos, (m0, (z_n0, t_n0)) in enumerate(z_m0 << t_m0):\n",
    "            for n0_pos, (n0, (z_ref, t_k)) in enumerate(z_n0 << t_n0):\n",
    "                for k_pos, (k, t_val) in enumerate(t_k):\n",
    "                    z_ref += t_val\n",
    "                    canvas.addActivity((m0, n0, k), (m1, n1, m0, n0), spacetime=((m0_pos, n0_pos), (m1_pos, n1_pos, k_pos)))\n",
    "tmp16 = Z_M1N1M0N0\n",
    "tmp17 = tmp16.swizzleRanks(rank_ids=[\"M1\", \"M0\", \"N1\", \"N0\"])\n",
    "tmp18 = tmp17.mergeRanks(depth=0, levels=1, coord_style=\"absolute\")\n",
    "tmp19 = tmp18.mergeRanks(depth=1, levels=1, coord_style=\"absolute\")\n",
    "tmp19.setRankIds(rank_ids=[\"M\", \"N\"])\n",
    "Z_MN = tmp19\n",
    "displayCanvas(canvas)"
   ]
  },
  {
   "attachments": {},
   "cell_type": "markdown",
   "id": "41699a84-4a0e-4562-8a7f-6978c07f97bb",
   "metadata": {},
   "source": [
    "## Check Results\n",
    "\n",
    "Check that generated code computes the correct result.\n",
    "\n",
    "**Note**: Should be used after compiling and running the kernel (above cell)."
   ]
  },
  {
   "cell_type": "code",
   "execution_count": 64,
   "id": "9ea8f4e3-e4e0-4d8e-b0ec-40d47684b8af",
   "metadata": {},
   "outputs": [
    {
     "name": "stdout",
     "output_type": "stream",
     "text": [
      "Result correct? True\n"
     ]
    }
   ],
   "source": [
    "utils.check_matmul(A_KM, B_KN, Z_MN)"
   ]
  }
 ],
 "metadata": {
  "kernelspec": {
   "display_name": "Python 3 (ipykernel)",
   "language": "python",
   "name": "python3"
  },
  "language_info": {
   "codemirror_mode": {
    "name": "ipython",
    "version": 3
   },
   "file_extension": ".py",
   "mimetype": "text/x-python",
   "name": "python",
   "nbconvert_exporter": "python",
   "pygments_lexer": "ipython3",
   "version": "3.12.4"
  }
 },
 "nbformat": 4,
 "nbformat_minor": 5
}
