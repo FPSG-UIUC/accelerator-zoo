{
 "cells": [
  {
   "cell_type": "markdown",
   "id": "6006d1d6-5d5e-43d9-a33d-d365b453d549",
   "metadata": {},
   "source": [
    "# ExTensor\n",
    "\n",
    "This notebook reproduces the salient characteristics of the [ExTensor](https://dl.acm.org/doi/10.1145/3352460.3358275) accelerator."
   ]
  },
  {
   "cell_type": "markdown",
   "id": "5f563412-8f61-43d7-a883-739b55f05617",
   "metadata": {},
   "source": [
    "## Imports\n",
    "\n",
    "Import the necessary modules."
   ]
  },
  {
   "cell_type": "code",
   "execution_count": null,
   "id": "c44f246e-9f6c-4842-b188-656164ef7e2d",
   "metadata": {},
   "outputs": [],
   "source": [
    "# HiFiber boilerplate\n",
    "\n",
    "from fibertree_bootstrap import *\n",
    "\n",
    "fibertree_bootstrap(style=\"tree\", animation='movie')\n",
    "\n",
    "# Compilation boilerplate\n",
    "\n",
    "import os\n",
    "import sys\n",
    "sys.path.insert(0, \"..\")\n",
    "\n",
    "from src.utils import *"
   ]
  },
  {
   "cell_type": "markdown",
   "id": "bdcb3d73-446d-4cac-b396-e71d80bc739f",
   "metadata": {},
   "source": [
    "## Initialization\n",
    "\n",
    "Initialize the input tensors. Tensor shapes and densities can be modified below.\n",
    "\n",
    "**Warning:** Large tensors will overwhelm the video generation. Either:\n",
    "1. Use small tensors; as a rule of thumb, fewer than 60 computes (e.g., multiplications) should be required.\n",
    "2. Do not generate a video; remove the `spacetime` specification from the `mapping` before compiling."
   ]
  },
  {
   "cell_type": "code",
   "execution_count": null,
   "id": "5ae8d7b0-9cde-423e-a118-4798e94a3780",
   "metadata": {},
   "outputs": [],
   "source": [
    "K = 8\n",
    "M = 4\n",
    "N = 4\n",
    "\n",
    "density = [1, 0.75]\n",
    "seed = 0\n",
    "\n",
    "K0 = 2\n",
    "K1 = 4\n",
    "M0 = 2\n",
    "M1 = 4\n",
    "N0 = 2\n",
    "N1 = 4\n",
    "\n",
    "A_KM = Tensor.fromRandom(rank_ids=[\"K\", \"M\"], shape=[K, M], seed=seed, density=density, name=\"A\")\n",
    "B_KN = Tensor.fromRandom(rank_ids=[\"K\", \"N\"], shape=[K, N], seed=seed + 1, density=density, name=\"B\")"
   ]
  },
  {
   "cell_type": "markdown",
   "id": "adf9d02e-f496-482f-ad4c-3c3ca4f02312",
   "metadata": {},
   "source": [
    "## Compile and Run\n",
    "\n",
    "Below is the TeAAL specification for ExTensor. To simulate the accelerator:\n",
    "1. Compile it to HiFiber by running the cell, inserting a new cell\n",
    "2. Run the new cell, which will\n",
    "    - Execute the kernel; multiplying the above defined matrices\n",
    "    - Generate visualizations of the actions of the kernel\n",
    "\n",
    "Remember, if you are using large tensors, remove the spacetime specification to generate a kernel that does not produce videos. Outputs can still be checked below.\n",
    "\n",
    "#### Notes\n",
    "- Small tensors are required for video generation. Partition shapes are decreased accordingly for visualization purposes.\n",
    "- If you are using large tensors, remove the spacetime specification to generate a kernel that does not produce videos. Outputs can still be checked below."
   ]
  },
  {
   "cell_type": "code",
   "execution_count": null,
   "id": "bc5f371b-cdf8-4038-9abb-f517e6707457",
   "metadata": {},
   "outputs": [],
   "source": [
    "yaml = \"\"\"\n",
    "einsum:\n",
    "  declaration:\n",
    "    A: [K, M]\n",
    "    B: [K, N]\n",
    "    Z: [M, N]\n",
    "  expressions:\n",
    "    - Z[m,n] = A[k,m] * B[k,n]\n",
    "mapping:\n",
    "  rank-order:\n",
    "    A: [K, M]\n",
    "    B: [K, N]\n",
    "    Z: [M, N]\n",
    "  partitioning:\n",
    "    Z:\n",
    "      K:\n",
    "        - uniform_shape(K1)\n",
    "        - uniform_shape(K0)\n",
    "      M:\n",
    "        - uniform_shape(M1)\n",
    "        - uniform_shape(M0)\n",
    "      N:\n",
    "        - uniform_shape(N1)\n",
    "        - uniform_shape(N0)\n",
    "  loop-order:\n",
    "    Z: [N2, K2, M2, M1, N1, K1, M0, N0, K0]\n",
    "  spacetime:\n",
    "    Z:\n",
    "      space: [K1]\n",
    "      time: [N2, K2, M2, M1, N1, M0, N0, K0]\n",
    "\"\"\"\n",
    "\n",
    "compile(yaml)"
   ]
  },
  {
   "cell_type": "markdown",
   "id": "694adedd-cb67-4ffe-9830-ebdbe7255df8",
   "metadata": {},
   "source": [
    "## Check Results\n",
    "\n",
    "Check that generated code computes the correct result.\n",
    "\n",
    "**Note**: Should be used after compiling and running the kernel (above cell)."
   ]
  },
  {
   "cell_type": "code",
   "execution_count": null,
   "id": "9ea8f4e3-e4e0-4d8e-b0ec-40d47684b8af",
   "metadata": {},
   "outputs": [],
   "source": [
    "check_matmul(A_KM, B_KN, Z_MN)"
   ]
  }
 ],
 "metadata": {
  "kernelspec": {
   "display_name": "Python 3 (ipykernel)",
   "language": "python",
   "name": "python3"
  },
  "language_info": {
   "codemirror_mode": {
    "name": "ipython",
    "version": 3
   },
   "file_extension": ".py",
   "mimetype": "text/x-python",
   "name": "python",
   "nbconvert_exporter": "python",
   "pygments_lexer": "ipython3",
   "version": "3.12.5"
  }
 },
 "nbformat": 4,
 "nbformat_minor": 5
}
