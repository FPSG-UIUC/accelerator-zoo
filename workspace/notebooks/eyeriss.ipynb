{
 "cells": [
  {
   "cell_type": "markdown",
   "id": "da76b13d-be9f-4ac9-b829-06d91e121747",
   "metadata": {},
   "source": [
    "# Eyeriss\n",
    "\n",
    "This notebook reproduces the salient characteristics of the [Eyeriss](https://ieeexplore.ieee.org/stamp/stamp.jsp?tp=&arnumber=7738524) accelerator."
   ]
  },
  {
   "cell_type": "markdown",
   "id": "fdc4fd9f-cd1d-428f-9fae-8d4f778ff5e1",
   "metadata": {},
   "source": [
    "## Imports\n",
    "\n",
    "Import the necessary modules."
   ]
  },
  {
   "cell_type": "code",
   "execution_count": null,
   "id": "79324e3f-fceb-476c-8856-68c494ed9c79",
   "metadata": {},
   "outputs": [],
   "source": [
    "# HiFiber boilerplate\n",
    "\n",
    "from fibertree_bootstrap import *\n",
    "\n",
    "fibertree_bootstrap(style=\"tree\", animation='movie')\n",
    "\n",
    "# Compilation boilerplate\n",
    "\n",
    "import os\n",
    "import sys\n",
    "sys.path.insert(0, \"..\")\n",
    "\n",
    "from src import utils"
   ]
  },
  {
   "cell_type": "markdown",
   "id": "730dc594-73d7-4d55-a9f2-7eac7cd2da66",
   "metadata": {},
   "source": [
    "## Initialization\n",
    "\n",
    "Initialize the input tensors. Tensor shapes and densities can be modified below.\n",
    "\n",
    "**Warning:** Large tensors will overwhelm the video generation. Either:\n",
    "1. Use small tensors; as a rule of thumb, fewer than 60 computes (e.g., multiplications) should be required.\n",
    "2. Do not generate a video; remove the `spacetime` specification from the `mapping` before compiling."
   ]
  },
  {
   "cell_type": "code",
   "execution_count": null,
   "id": "caf516c6-8d52-44ba-a7e9-f5e6f4c5f339",
   "metadata": {},
   "outputs": [],
   "source": [
    "# Filter\n",
    "M = 2\n",
    "C = 2\n",
    "R = 2\n",
    "S = 2\n",
    "\n",
    "# Input\n",
    "N = 2\n",
    "H = 3\n",
    "W = 3\n",
    "\n",
    "# Stride\n",
    "Stride = 1\n",
    "\n",
    "# Output\n",
    "E = int((H-R+Stride)/Stride)\n",
    "F = int((W-S+Stride)/Stride)\n",
    "\n",
    "# Partition parameters\n",
    "N1 = 2\n",
    "N0 = 1\n",
    "C2 = 2\n",
    "C1 = 2\n",
    "C0 = 2\n",
    "M2 = 2\n",
    "M1 = 1\n",
    "M0 = 1\n",
    "E2 = 2\n",
    "E1 = 2\n",
    "E0 = 2\n",
    "\n",
    "# Random Input Tensors\n",
    "I_NCHW = Tensor.fromRandom(rank_ids=[\"N\", \"C\", \"H\", \"W\"], density=1.0, shape=[N, C, H, W])\n",
    "F_MCRS = Tensor.fromRandom(rank_ids=[\"M\", \"C\", \"R\", \"S\"], density=1.0, shape=[M, C, R, S])"
   ]
  },
  {
   "cell_type": "markdown",
   "id": "b532deca-d2e8-4970-9822-666bcaad0d84",
   "metadata": {},
   "source": [
    "## Compile and Run\n",
    "\n",
    "Below is the TeAAL specification for Eyeriss. To simulate the accelerator:\n",
    "1. Compile it to HiFiber by running the cell, inserting a new cell\n",
    "2. Run the new cell, which will\n",
    "    - Execute the kernel; multiplying the above defined matrices\n",
    "    - Generate visualizations of the actions of the kernel\n",
    " \n",
    "   "
   ]
  },
  {
   "cell_type": "code",
   "execution_count": null,
   "id": "dd9180c9-b42a-4645-ad2e-97edf8fdcbfa",
   "metadata": {},
   "outputs": [],
   "source": [
    "yaml = \"\"\"\n",
    "einsum:\n",
    "  declaration:\n",
    "    I: [N, C, H, W]\n",
    "    F: [M, C, R, S]\n",
    "    O: [N, M, E, F]\n",
    "  expressions:\n",
    "    - O[n, m, e, f] = I[n, c, e+r, f+s]*F[m, c, r, s]\n",
    "mapping:\n",
    "  rank-order:\n",
    "    I: [N, C, H, W]\n",
    "    F: [M, C, R, S]\n",
    "    O: [N, M, E, F]\n",
    "  partitioning:\n",
    "    O:\n",
    "      M: [uniform_shape(M1), uniform_shape(M0)]\n",
    "      N: [uniform_shape(N0)]\n",
    "      C: [uniform_shape(C1), uniform_shape(C0)]\n",
    "      E: [uniform_shape(E1), uniform_shape(E0)]\n",
    "  loop-order:\n",
    "    O: [N1, C2, M2, C1, M1, N0, C0, M0, F, E2, E1, E0, R, S]\n",
    "  spacetime:\n",
    "    O:\n",
    "      space: [C1, M1, E1, E0, R]\n",
    "      time: [N1, C2, M2, N0, C0, M0, F, E2, S]\n",
    "\"\"\"\n",
    "utils.compile(yaml, generate_video = True)"
   ]
  },
  {
   "cell_type": "code",
   "execution_count": null,
   "id": "61cd8c2a-d512-4ebd-b60f-93929df1c6a7",
   "metadata": {},
   "outputs": [],
   "source": [
    "utils.check_conv(I_NCHW, F_MCRS, O_NMEF, stride=Stride)"
   ]
  },
  {
   "cell_type": "markdown",
   "id": "35257b8e-68c0-4437-9b5f-b5dc836678e0",
   "metadata": {},
   "source": [
    "## Extra specifications for Eyeriss with AlexNet Convolution layers as the target layers to model\n",
    "\n",
    "Original AlexNet assumes batch size = 128.\n",
    "Eyeriss uses batch size = 4.\n",
    "We follow the Eyeriss parameter here. \n",
    "\n",
    "Due to the large parameter involved in AlexNet, our spec will not generate videos (generate_video = False), but it still checks correctness. "
   ]
  },
  {
   "cell_type": "markdown",
   "id": "fcbbb851-d2eb-46eb-8cf0-43250f41f5bb",
   "metadata": {},
   "source": [
    "![Eyerisis AlexNet detail](./images/alexnet-eyeriss.png)"
   ]
  },
  {
   "cell_type": "markdown",
   "id": "e0ff8084-99bc-451a-946c-8fa8bae0a7e4",
   "metadata": {},
   "source": [
    "#### Warning\n",
    "\n",
    "The below cells (Original Parameters) might take a long time to run. You can decrease the parameters (Reduced Parameters) to speed up the process."
   ]
  },
  {
   "cell_type": "markdown",
   "id": "0a9d80db-2fe6-4e8f-9bff-8c0c0e3f3ecc",
   "metadata": {},
   "source": [
    "### AlexNet Convolutional Layer 1"
   ]
  },
  {
   "cell_type": "markdown",
   "id": "356130d0-041e-46e2-a7f0-370e20904638",
   "metadata": {
    "jp-MarkdownHeadingCollapsed": true
   },
   "source": [
    "#### Original Parameters"
   ]
  },
  {
   "cell_type": "code",
   "execution_count": null,
   "id": "11372312-fc62-4833-894c-453befa4bcdc",
   "metadata": {},
   "outputs": [],
   "source": [
    "# Filter\n",
    "M = 96\n",
    "C = 3\n",
    "R = 11\n",
    "S = 11\n",
    "\n",
    "# Input\n",
    "N = 4\n",
    "H = 227\n",
    "W = 227\n",
    "\n",
    "# Stride\n",
    "Stride = 4\n",
    "\n",
    "# Output\n",
    "E = 55\n",
    "F = 55\n",
    "\n",
    "# Partition parameters\n",
    "M2 = M\n",
    "M1 = 32\n",
    "M0 = 16\n",
    "E2 = E \n",
    "E1 = 14\n",
    "E0 = 7\n",
    "\n",
    "# Random Input Tensors\n",
    "I_NCHW = Tensor.fromRandom(rank_ids=[\"N\", \"C\", \"H\", \"W\"], density=1.0, shape=[N, C, H, W])\n",
    "F_MCRS = Tensor.fromRandom(rank_ids=[\"M\", \"C\", \"R\", \"S\"], density=1.0, shape=[M, C, R, S])"
   ]
  },
  {
   "cell_type": "code",
   "execution_count": null,
   "id": "86e3c0dd-5ae9-40ea-9a46-b5ae1f90291c",
   "metadata": {
    "scrolled": true
   },
   "outputs": [],
   "source": [
    "yaml = \"\"\"\n",
    "einsum:\n",
    "  declaration:\n",
    "    I: [N, C, H, W]\n",
    "    F: [M, C, R, S]\n",
    "    O: [N, M, E, F]\n",
    "  expressions:\n",
    "    - O[n, m, e, f] = I[n, c, 4*e+r, 4*f+s]*F[m, c, r, s]\n",
    "mapping:\n",
    "  rank-order:\n",
    "    I: [N, C, H, W]\n",
    "    F: [M, C, R, S]\n",
    "    O: [N, M, E, F]\n",
    "  partitioning:\n",
    "    O:\n",
    "      M: [uniform_shape(32), uniform_shape(16)]\n",
    "      E: [uniform_shape(14), uniform_shape(7)]\n",
    "  loop-order:\n",
    "    O: [N, C, M2, M1, M0, F, E2, E1, E0, R, S]\n",
    "  spacetime:\n",
    "    O:\n",
    "      space: [M1, E1, E0, R]\n",
    "      time: [N, C, M2, M0, F, E2, S]\n",
    "\"\"\"\n",
    "\n",
    "utils.compile(yaml, generate_video = False)"
   ]
  },
  {
   "cell_type": "code",
   "execution_count": null,
   "id": "d15c920b-10ae-4b39-8aea-aa40039ecbbc",
   "metadata": {},
   "outputs": [],
   "source": [
    "utils.check_conv(I_NCHW, F_MCRS, O_NMEF, stride=Stride)"
   ]
  },
  {
   "cell_type": "markdown",
   "id": "76d5ae01-243e-4ab4-a653-2cf5bdfd9ec0",
   "metadata": {},
   "source": [
    "#### Reduced Parameters"
   ]
  },
  {
   "cell_type": "code",
   "execution_count": null,
   "id": "b343e314-db95-4dc2-a6b3-f755c90f5fcb",
   "metadata": {},
   "outputs": [],
   "source": [
    "# Filter\n",
    "M = 16\n",
    "C = 3\n",
    "R = 4\n",
    "S = 4\n",
    "\n",
    "# Input\n",
    "N = 4\n",
    "H = 32\n",
    "W = 12\n",
    "\n",
    "# Stride\n",
    "Stride = 4\n",
    "\n",
    "# Output\n",
    "E = 8 \n",
    "F = 3\n",
    "\n",
    "# Partition parameters\n",
    "M2 = M\n",
    "M1 = 8\n",
    "M0 = 4\n",
    "E2 = E \n",
    "E1 = 4\n",
    "E0 = 2\n",
    "\n",
    "# Random Input Tensors\n",
    "I_NCHW = Tensor.fromRandom(rank_ids=[\"N\", \"C\", \"H\", \"W\"], density=1.0, shape=[N, C, H, W])\n",
    "F_MCRS = Tensor.fromRandom(rank_ids=[\"M\", \"C\", \"R\", \"S\"], density=1.0, shape=[M, C, R, S])"
   ]
  },
  {
   "cell_type": "code",
   "execution_count": null,
   "id": "3d5f0a80-f8b0-4c83-a57e-5e8231ee2748",
   "metadata": {},
   "outputs": [],
   "source": [
    "yaml = \"\"\"\n",
    "einsum:\n",
    "  declaration:\n",
    "    I: [N, C, H, W]\n",
    "    F: [M, C, R, S]\n",
    "    O: [N, M, E, F]\n",
    "  expressions:\n",
    "    - O[n, m, e, f] = I[n, c, 4*e+r, 4*f+s]*F[m, c, r, s]\n",
    "mapping:\n",
    "  rank-order:\n",
    "    I: [N, C, H, W]\n",
    "    F: [M, C, R, S]\n",
    "    O: [N, M, E, F]\n",
    "  partitioning:\n",
    "    O:\n",
    "      M: [uniform_shape(8), uniform_shape(4)]\n",
    "      E: [uniform_shape(4), uniform_shape(2)]\n",
    "  loop-order:\n",
    "    O: [N, C, M2, M1, M0, F, E2, E1, E0, R, S]\n",
    "  spacetime:\n",
    "    O:\n",
    "      space: [M1, E1, E0, R]\n",
    "      time: [N, C, M2, M0, F, E2, S]\n",
    "\"\"\"\n",
    "\n",
    "utils.compile(yaml, generate_video = False)"
   ]
  },
  {
   "cell_type": "code",
   "execution_count": null,
   "id": "03422376-269e-42b4-9318-6d661d7b2fc4",
   "metadata": {},
   "outputs": [],
   "source": [
    "utils.check_conv(I_NCHW, F_MCRS, O_NMEF, stride=Stride)"
   ]
  },
  {
   "cell_type": "markdown",
   "id": "d50a7b80-0df8-430d-9de8-b86b65a67221",
   "metadata": {},
   "source": [
    "### AlexNet Convolutional Layer 2"
   ]
  },
  {
   "cell_type": "markdown",
   "id": "73b8157e-c017-49ef-842b-cdd7134ed4b7",
   "metadata": {
    "jp-MarkdownHeadingCollapsed": true
   },
   "source": [
    "#### Original Parameters"
   ]
  },
  {
   "cell_type": "code",
   "execution_count": null,
   "id": "5f51e9d0-2009-4912-b05e-c4e4cb2b12e9",
   "metadata": {},
   "outputs": [],
   "source": [
    "# Filter\n",
    "M = 256\n",
    "C = 48\n",
    "R = 5\n",
    "S = 5\n",
    "\n",
    "# Input\n",
    "N = 4\n",
    "H = 31\n",
    "W = 31\n",
    "\n",
    "# Stride\n",
    "Stride = 1\n",
    "\n",
    "# Output\n",
    "E = int((H-R+Stride)/Stride)\n",
    "F = int((W-S+Stride)/Stride)\n",
    "\n",
    "# Partition parameters\n",
    "C1 = C\n",
    "C0 = 2\n",
    "M1 = M\n",
    "M0 = 16\n",
    "\n",
    "# Random Input Tensors\n",
    "I_NCHW = Tensor.fromRandom(rank_ids=[\"N\", \"C\", \"H\", \"W\"], density=1.0, shape=[N, C, H, W])\n",
    "F_MCRS = Tensor.fromRandom(rank_ids=[\"M\", \"C\", \"R\", \"S\"], density=1.0, shape=[M, C, R, S])"
   ]
  },
  {
   "cell_type": "code",
   "execution_count": null,
   "id": "586d99b8-653a-4ab9-8d35-2c7654d0a3b8",
   "metadata": {},
   "outputs": [],
   "source": [
    "yaml = \"\"\"\n",
    "einsum:\n",
    "  declaration:\n",
    "    I: [N, C, H, W]\n",
    "    F: [M, C, R, S]\n",
    "    O: [N, M, E, F]\n",
    "  expressions:\n",
    "    - O[n, m, e, f] = I[n, c, e+r, f+s]*F[m, c, r, s]\n",
    "mapping:\n",
    "  rank-order:\n",
    "    I: [N, C, H, W]\n",
    "    F: [M, C, R, S]\n",
    "    O: [N, M, E, F]\n",
    "  partitioning:\n",
    "    O:\n",
    "      M: [uniform_shape(16)]\n",
    "      C: [uniform_shape(2)]\n",
    "  loop-order:\n",
    "    O: [N, C1, M1, C0, M0, F, E, R, S]\n",
    "  spacetime:\n",
    "    O:\n",
    "      space: [E, R]\n",
    "      time: [N, C1, M1, C0, M0, F, S]\n",
    "\"\"\"\n",
    "\n",
    "utils.compile(yaml, generate_video = False)"
   ]
  },
  {
   "cell_type": "code",
   "execution_count": null,
   "id": "8b73bef3-f4c4-4dc8-89f4-11e7b3d3bf7f",
   "metadata": {},
   "outputs": [],
   "source": [
    "utils.check_conv(I_NCHW, F_MCRS, O_NMEF, stride=Stride)"
   ]
  },
  {
   "cell_type": "markdown",
   "id": "3ef380c4-6c3e-47fd-99de-3982626febd0",
   "metadata": {},
   "source": [
    "#### Reduced Parameters"
   ]
  },
  {
   "cell_type": "code",
   "execution_count": null,
   "id": "314a5f71-6c64-4d3e-8f1c-adcc56299989",
   "metadata": {},
   "outputs": [],
   "source": [
    "# Filter\n",
    "M = 8\n",
    "C = 6\n",
    "R = 5\n",
    "S = 5\n",
    "\n",
    "# Input\n",
    "N = 4\n",
    "H = 8\n",
    "W = 8\n",
    "\n",
    "# Stride\n",
    "Stride = 1\n",
    "\n",
    "# Output\n",
    "E = int((H-R+Stride)/Stride)\n",
    "F = int((W-S+Stride)/Stride)\n",
    "\n",
    "# Partition parameters\n",
    "C1 = C\n",
    "C0 = 2\n",
    "M1 = M\n",
    "M0 = 4\n",
    "\n",
    "# Random Input Tensors\n",
    "I_NCHW = Tensor.fromRandom(rank_ids=[\"N\", \"C\", \"H\", \"W\"], density=1.0, shape=[N, C, H, W])\n",
    "F_MCRS = Tensor.fromRandom(rank_ids=[\"M\", \"C\", \"R\", \"S\"], density=1.0, shape=[M, C, R, S])"
   ]
  },
  {
   "cell_type": "code",
   "execution_count": null,
   "id": "04fc7246-1a6f-467a-a1e1-31d14e9237c9",
   "metadata": {},
   "outputs": [],
   "source": [
    "yaml = \"\"\"\n",
    "einsum:\n",
    "  declaration:\n",
    "    I: [N, C, H, W]\n",
    "    F: [M, C, R, S]\n",
    "    O: [N, M, E, F]\n",
    "  expressions:\n",
    "    - O[n, m, e, f] = I[n, c, e+r, f+s]*F[m, c, r, s]\n",
    "mapping:\n",
    "  rank-order:\n",
    "    I: [N, C, H, W]\n",
    "    F: [M, C, R, S]\n",
    "    O: [N, M, E, F]\n",
    "  partitioning:\n",
    "    O:\n",
    "      M: [uniform_shape(4)]\n",
    "      C: [uniform_shape(2)]\n",
    "  loop-order:\n",
    "    O: [N, C1, M1, C0, M0, F, E, R, S]\n",
    "  spacetime:\n",
    "    O:\n",
    "      space: [E, R]\n",
    "      time: [N, C1, M1, C0, M0, F, S]\n",
    "\"\"\"\n",
    "\n",
    "utils.compile(yaml, generate_video = False)"
   ]
  },
  {
   "cell_type": "code",
   "execution_count": null,
   "id": "682ae6b3-a2cb-4cae-9857-db1b2bd809ee",
   "metadata": {},
   "outputs": [],
   "source": [
    "utils.check_conv(I_NCHW, F_MCRS, O_NMEF, stride=Stride)"
   ]
  },
  {
   "cell_type": "markdown",
   "id": "a6de5079-4ebb-4515-8ce9-25b54251bf15",
   "metadata": {},
   "source": [
    "### AlexNet Convolutional Layer 3\n"
   ]
  },
  {
   "cell_type": "markdown",
   "id": "9c945599-1598-43a8-a9da-fa754e7a8f3d",
   "metadata": {
    "jp-MarkdownHeadingCollapsed": true
   },
   "source": [
    "#### Original Parameters"
   ]
  },
  {
   "cell_type": "code",
   "execution_count": null,
   "id": "a297dbd5-7781-4cc6-a911-682ba3c074ac",
   "metadata": {},
   "outputs": [],
   "source": [
    "# Filter\n",
    "M = 384\n",
    "C = 256\n",
    "R = 3\n",
    "S = 3\n",
    "\n",
    "# Input\n",
    "N = 4\n",
    "H = 15\n",
    "W = 15\n",
    "\n",
    "# Stride\n",
    "Stride = 1\n",
    "\n",
    "# Output\n",
    "E = 13\n",
    "F = 13\n",
    "\n",
    "# Partition parameters\n",
    "C1 = C\n",
    "C0 = 4\n",
    "M2 = M\n",
    "M1 = 64\n",
    "M0 = 16\n",
    "N1 = 4\n",
    "N0 = 4\n",
    "\n",
    "# Random Input Tensors\n",
    "I_NCHW = Tensor.fromRandom(rank_ids=[\"N\", \"C\", \"H\", \"W\"], density=1.0, shape=[N, C, H, W])\n",
    "F_MCRS = Tensor.fromRandom(rank_ids=[\"M\", \"C\", \"R\", \"S\"], density=1.0, shape=[M, C, R, S])"
   ]
  },
  {
   "cell_type": "code",
   "execution_count": null,
   "id": "2b101391-05c3-46a9-ac2f-5937b6c645dc",
   "metadata": {},
   "outputs": [],
   "source": [
    "yaml = \"\"\"\n",
    "einsum:\n",
    "  declaration:\n",
    "    I: [N, C, H, W]\n",
    "    F: [M, C, R, S]\n",
    "    O: [N, M, E, F]\n",
    "  expressions:\n",
    "    - O[n, m, e, f] = I[n, c, e+r, f+s]*F[m, c, r, s]\n",
    "mapping:\n",
    "  rank-order:\n",
    "    I: [N, C, H, W]\n",
    "    F: [M, C, R, S]\n",
    "    O: [N, M, E, F]\n",
    "  partitioning:\n",
    "    O:\n",
    "      M: [uniform_shape(64), uniform_shape(16)]\n",
    "      C: [uniform_shape(4)]\n",
    "      N: [uniform_shape(4)]\n",
    "  loop-order:\n",
    "    O: [N1, C1, M2, M1, N0, C0, M0, F, E, R, S]\n",
    "  spacetime:\n",
    "    O:\n",
    "      space: [M1, E, R]\n",
    "      time: [N1, C1, M2, N0, C0, M0, F, S]\n",
    "\"\"\"\n",
    "\n",
    "utils.compile(yaml, generate_video = False)"
   ]
  },
  {
   "cell_type": "code",
   "execution_count": null,
   "id": "0e2c4d96-06ae-4668-a4ed-ea2f451adbef",
   "metadata": {},
   "outputs": [],
   "source": [
    "utils.check_conv(I_NCHW, F_MCRS, O_NMEF, stride=Stride)"
   ]
  },
  {
   "cell_type": "markdown",
   "id": "22921df3-e51e-41df-af50-118159fd5174",
   "metadata": {},
   "source": [
    "#### Reduced Parameters"
   ]
  },
  {
   "cell_type": "code",
   "execution_count": null,
   "id": "93438a8e-7e81-4a0a-a302-794095f525e9",
   "metadata": {},
   "outputs": [],
   "source": [
    "# Filter\n",
    "M = 8\n",
    "C = 16\n",
    "R = 3\n",
    "S = 3\n",
    "\n",
    "# Input\n",
    "N = 4\n",
    "H = 15\n",
    "W = 15\n",
    "\n",
    "# Stride\n",
    "Stride = 1\n",
    "\n",
    "# Output\n",
    "E = 13\n",
    "F = 13\n",
    "\n",
    "# Partition parameters\n",
    "C1 = C\n",
    "C0 = 4\n",
    "M2 = M\n",
    "M1 = 4\n",
    "M0 = 2\n",
    "N1 = 4\n",
    "N0 = 4\n",
    "\n",
    "# Random Input Tensors\n",
    "I_NCHW = Tensor.fromRandom(rank_ids=[\"N\", \"C\", \"H\", \"W\"], density=1.0, shape=[N, C, H, W])\n",
    "F_MCRS = Tensor.fromRandom(rank_ids=[\"M\", \"C\", \"R\", \"S\"], density=1.0, shape=[M, C, R, S])"
   ]
  },
  {
   "cell_type": "code",
   "execution_count": null,
   "id": "e89fadeb-a6aa-4587-947f-e4d666d324c0",
   "metadata": {},
   "outputs": [],
   "source": [
    "yaml = \"\"\"\n",
    "einsum:\n",
    "  declaration:\n",
    "    I: [N, C, H, W]\n",
    "    F: [M, C, R, S]\n",
    "    O: [N, M, E, F]\n",
    "  expressions:\n",
    "    - O[n, m, e, f] = I[n, c, e+r, f+s]*F[m, c, r, s]\n",
    "mapping:\n",
    "  rank-order:\n",
    "    I: [N, C, H, W]\n",
    "    F: [M, C, R, S]\n",
    "    O: [N, M, E, F]\n",
    "  partitioning:\n",
    "    O:\n",
    "      M: [uniform_shape(4), uniform_shape(2)]\n",
    "      C: [uniform_shape(4)]\n",
    "      N: [uniform_shape(4)]\n",
    "  loop-order:\n",
    "    O: [N1, C1, M2, M1, N0, C0, M0, F, E, R, S]\n",
    "  spacetime:\n",
    "    O:\n",
    "      space: [M1, E, R]\n",
    "      time: [N1, C1, M2, N0, C0, M0, F, S]\n",
    "\"\"\"\n",
    "\n",
    "utils.compile(yaml, generate_video = False)"
   ]
  },
  {
   "cell_type": "code",
   "execution_count": null,
   "id": "687628df-4ace-4972-bc2c-929bdb43cb7b",
   "metadata": {},
   "outputs": [],
   "source": [
    "utils.check_conv(I_NCHW, F_MCRS, O_NMEF, stride=Stride)"
   ]
  },
  {
   "cell_type": "markdown",
   "id": "86c1998b-f1d7-4ca6-b08b-ca11905fe6e1",
   "metadata": {},
   "source": [
    "### AlexNet Convolutional Layer 4 & 5\n"
   ]
  },
  {
   "cell_type": "markdown",
   "id": "8eebf522-df1c-4606-9d0f-96a28b4b879e",
   "metadata": {
    "jp-MarkdownHeadingCollapsed": true
   },
   "source": [
    "#### Original Parameters"
   ]
  },
  {
   "cell_type": "code",
   "execution_count": null,
   "id": "d3a8bc00-5aed-4079-b362-a6ed5ebc7ad5",
   "metadata": {},
   "outputs": [],
   "source": [
    "# Filter\n",
    "M = 256\n",
    "C = 192\n",
    "R = 3\n",
    "S = 3\n",
    "\n",
    "# Input\n",
    "N = 4\n",
    "H = 15\n",
    "W = 15\n",
    "\n",
    "# Stride\n",
    "Stride = 1\n",
    "\n",
    "# Output\n",
    "E = 13\n",
    "F = 13\n",
    "\n",
    "# Partition parameters\n",
    "C2 = C\n",
    "C1 = 6\n",
    "C0 = 3\n",
    "M2 = M\n",
    "M1 = 32\n",
    "M0 = 16\n",
    "N1 = 4\n",
    "N0 = 4\n",
    "\n",
    "# Random Input Tensors\n",
    "I_NCHW = Tensor.fromRandom(rank_ids=[\"N\", \"C\", \"H\", \"W\"], density=1.0, shape=[N, C, H, W])\n",
    "F_MCRS = Tensor.fromRandom(rank_ids=[\"M\", \"C\", \"R\", \"S\"], density=1.0, shape=[M, C, R, S])"
   ]
  },
  {
   "cell_type": "code",
   "execution_count": null,
   "id": "82429180-0ad0-49e3-a737-ca22516b2b08",
   "metadata": {},
   "outputs": [],
   "source": [
    "yaml = \"\"\"\n",
    "einsum:\n",
    "  declaration:\n",
    "    I: [N, C, H, W]\n",
    "    F: [M, C, R, S]\n",
    "    O: [N, M, E, F]\n",
    "  expressions:\n",
    "    - O[n, m, e, f] = I[n, c, e+r, f+s]*F[m, c, r, s]\n",
    "mapping:\n",
    "  rank-order:\n",
    "    I: [N, C, H, W]\n",
    "    F: [M, C, R, S]\n",
    "    O: [N, M, E, F]\n",
    "  partitioning:\n",
    "    O:\n",
    "      M: [uniform_shape(32), uniform_shape(16)]\n",
    "      C: [uniform_shape(6), uniform_shape(3)]\n",
    "      N: [uniform_shape(4)]\n",
    "  loop-order:\n",
    "    O: [N1, C2, M2, C1, M1, N0, C0, M0, F, E, R, S]\n",
    "  spacetime:\n",
    "    O:\n",
    "      space: [C1, M1, E, R]\n",
    "      time: [N1, C2, M2, N0, C0, M0, F, S]\n",
    "\"\"\"\n",
    "\n",
    "utils.compile(yaml, generate_video = False)"
   ]
  },
  {
   "cell_type": "code",
   "execution_count": null,
   "id": "338b3e61-9bcc-4e6f-a035-b7a2a9b3f1e4",
   "metadata": {},
   "outputs": [],
   "source": [
    "utils.check_conv(I_NCHW, F_MCRS, O_NMEF, stride=Stride)"
   ]
  },
  {
   "cell_type": "markdown",
   "id": "619be7f9-4ef6-42e7-84df-2d6e56c3fecd",
   "metadata": {},
   "source": [
    "#### Reduced Parameters"
   ]
  },
  {
   "cell_type": "code",
   "execution_count": null,
   "id": "0c04e171-30bd-417a-b09f-41aceda80d5e",
   "metadata": {},
   "outputs": [],
   "source": [
    "# Filter\n",
    "M = 6\n",
    "C = 18\n",
    "R = 3\n",
    "S = 3\n",
    "\n",
    "# Input\n",
    "N = 4\n",
    "H = 15\n",
    "W = 15\n",
    "\n",
    "# Stride\n",
    "Stride = 1\n",
    "\n",
    "# Output\n",
    "E = 13\n",
    "F = 13\n",
    "\n",
    "# Partition parameters\n",
    "C2 = C\n",
    "C1 = 6\n",
    "C0 = 3\n",
    "M2 = M\n",
    "M1 = 4\n",
    "M0 = 2\n",
    "N1 = 4\n",
    "N0 = 4\n",
    "\n",
    "# Random Input Tensors\n",
    "I_NCHW = Tensor.fromRandom(rank_ids=[\"N\", \"C\", \"H\", \"W\"], density=1.0, shape=[N, C, H, W])\n",
    "F_MCRS = Tensor.fromRandom(rank_ids=[\"M\", \"C\", \"R\", \"S\"], density=1.0, shape=[M, C, R, S])"
   ]
  },
  {
   "cell_type": "code",
   "execution_count": null,
   "id": "f7b23131-e3a3-43c3-9031-b02924e6a057",
   "metadata": {},
   "outputs": [],
   "source": [
    "yaml = \"\"\"\n",
    "einsum:\n",
    "  declaration:\n",
    "    I: [N, C, H, W]\n",
    "    F: [M, C, R, S]\n",
    "    O: [N, M, E, F]\n",
    "  expressions:\n",
    "    - O[n, m, e, f] = I[n, c, e+r, f+s]*F[m, c, r, s]\n",
    "mapping:\n",
    "  rank-order:\n",
    "    I: [N, C, H, W]\n",
    "    F: [M, C, R, S]\n",
    "    O: [N, M, E, F]\n",
    "  partitioning:\n",
    "    O:\n",
    "      M: [uniform_shape(4), uniform_shape(2)]\n",
    "      C: [uniform_shape(6), uniform_shape(3)]\n",
    "      N: [uniform_shape(4)]\n",
    "  loop-order:\n",
    "    O: [N1, C2, M2, C1, M1, N0, C0, M0, F, E, R, S]\n",
    "  spacetime:\n",
    "    O:\n",
    "      space: [C1, M1, E, R]\n",
    "      time: [N1, C2, M2, N0, C0, M0, F, S]\n",
    "\"\"\"\n",
    "\n",
    "utils.compile(yaml, generate_video = False)"
   ]
  },
  {
   "cell_type": "code",
   "execution_count": null,
   "id": "029e5b83-bca8-4710-9fa1-3068a81bb3a4",
   "metadata": {},
   "outputs": [],
   "source": [
    "utils.check_conv(I_NCHW, F_MCRS, O_NMEF, stride=Stride)"
   ]
  }
 ],
 "metadata": {
  "kernelspec": {
   "display_name": "Python 3 (ipykernel)",
   "language": "python",
   "name": "python3"
  },
  "language_info": {
   "codemirror_mode": {
    "name": "ipython",
    "version": 3
   },
   "file_extension": ".py",
   "mimetype": "text/x-python",
   "name": "python",
   "nbconvert_exporter": "python",
   "pygments_lexer": "ipython3",
   "version": "3.12.4"
  }
 },
 "nbformat": 4,
 "nbformat_minor": 5
}
