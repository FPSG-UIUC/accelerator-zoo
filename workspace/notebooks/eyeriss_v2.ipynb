{
 "cells": [
  {
   "cell_type": "markdown",
   "id": "acbccf79-f986-4017-8407-b7e5063a04ec",
   "metadata": {},
   "source": [
    "# Eyeriss V2\n",
    "\n",
    "This notebook reproduces the salient characteristics of the [Eyeriss V2](https://eems.mit.edu/wp-content/uploads/2019/04/2019_jetcas_eyerissv2.pdf) accelerator."
   ]
  },
  {
   "cell_type": "markdown",
   "id": "5e2781f2-889b-4768-b8af-ac0427bd242f",
   "metadata": {},
   "source": [
    "## Imports\n",
    "\n",
    "Import the necessary modules."
   ]
  },
  {
   "cell_type": "code",
   "execution_count": null,
   "id": "14368dac-c05e-41c4-9744-522c51791be9",
   "metadata": {},
   "outputs": [],
   "source": [
    "# HiFiber boilerplate\n",
    "\n",
    "from fibertree_bootstrap import *\n",
    "\n",
    "fibertree_bootstrap(style=\"tree\", animation='movie')\n",
    "\n",
    "# Compilation boilerplate\n",
    "\n",
    "import os\n",
    "import sys\n",
    "sys.path.insert(0, \"..\")\n",
    "\n",
    "from src import utils"
   ]
  },
  {
   "cell_type": "markdown",
   "id": "13e756b8-3a01-4748-8469-eb684cd987ee",
   "metadata": {},
   "source": [
    "## Initialization\n",
    "\n",
    "Initialize the input tensors. Tensor shapes and densities can be modified below.\n",
    "\n",
    "**Warning:** Large tensors will overwhelm the video generation. Either:\n",
    "1. Use small tensors; as a rule of thumb, fewer than 60 computes (e.g., multiplications) should be required.\n",
    "2. Do not generate a video; setting generate_video = False when compiling.\n",
    "\n",
    "**Note** Different from Eyeriss v1\n",
    "1. Eyeriss v2 uses batch size equal to 1 throughout the paper."
   ]
  },
  {
   "cell_type": "code",
   "execution_count": null,
   "id": "289f9364-b9c0-4578-8f6c-f3ec40b58aae",
   "metadata": {},
   "outputs": [],
   "source": [
    "# Filter\n",
    "M = 8\n",
    "C = 4\n",
    "R = 2\n",
    "S = 2\n",
    "\n",
    "# Input\n",
    "N = 1\n",
    "H = 4\n",
    "W = 4\n",
    "\n",
    "# Stride\n",
    "Stride = 2\n",
    "\n",
    "# Output\n",
    "E = int((H-R+Stride)/Stride)\n",
    "F = int((W-S+Stride)/Stride)\n",
    "\n",
    "# Partition parameters\n",
    "C1 = C\n",
    "C0 = 2\n",
    "M2 = M\n",
    "M1 = 4\n",
    "M0 = 2\n",
    "\n",
    "# Random Input Tensors\n",
    "I_NCHW = Tensor.fromRandom(rank_ids=[\"N\", \"C\", \"H\", \"W\"], density=1.0, shape=[N, C, H, W])\n",
    "F_MCRS = Tensor.fromRandom(rank_ids=[\"M\", \"C\", \"R\", \"S\"], density=1.0, shape=[M, C, R, S])"
   ]
  },
  {
   "cell_type": "markdown",
   "id": "ccb8b59d-ec37-4ee1-b961-cbd4d1c735a4",
   "metadata": {},
   "source": [
    "## Compile and Run\n",
    "\n",
    "Below is the TeAAL specification for Eyeriss v2. To simulate the accelerator:\n",
    "1. Compile it to HiFiber by running the cell, inserting a new cell\n",
    "2. Run the new cell, which will\n",
    "    - Execute the kernel; multiplying the above defined matrices\n",
    "    - Generate visualizations of the actions of the kernel\n",
    "\n",
    "Here goes our resoning for the TeAAL specification for the Einsums and mappings of Eyeriss v2:\n",
    "1. Partition\n",
    "   - C rank is partitioned (uniform shape) once (C1, C0)\n",
    "     \n",
    "     \"Recall that for the row-stationary dataflow, multiple 1-D rows of weights and iact are mapped to a given PE and processed in a sliding window fashion; here, the C0 × M1 rows of weights with width S are assigned to the PE, and the weights belong to M1 output channels and C0 input channels\"\n",
    "     \n",
    "   - M rank is partitioned (uniform shape) twice (M2, M1, M0)\n",
    "\n",
    "     M rank is partitioned twice because there are SIMD support in the PE: \"The psum SPad also has to have two read and two write ports for updating two psums per cycle\".\n",
    "\n",
    "     As a result, M is first broken into M1, and within M1 it is further broken into M0 = 2.\n",
    "     \n",
    "2. Space and Time\n",
    "   - M rank\n",
    "     M0 is space because SIMD support in the PE computes two psums per cycle.\n",
    "     M1 is time because the M1 rows of weights are assigned to the same PE.\n",
    "     M2 is space because the PE array contains many PEs with each processing C0 × M1 rows of the filter.\n",
    "   - C rank\n",
    "     C0 is time and C1 is space for the same reason as M1 and M2.\n",
    "   - Other ranks follow the Eyeriss paper.\n",
    "     \n",
    "3. Loop order\n",
    "   - N: the paper did not specifically mention batch size as the outermost loop order, so we follow the original Eyeriss paper. \n",
    "   - M2 and C1 (no strict order between them)\n",
    "   - M1 and C0 (no strict order between them)\n",
    "   - M0\n",
    "   - F and then E: F before E because RS dataflow streams in the input activation in a window based manner.\n",
    "   - R and S (no strict order between them)"
   ]
  },
  {
   "cell_type": "code",
   "execution_count": null,
   "id": "cbc006d7-31ca-45a2-a90d-3dc10e8e8d7e",
   "metadata": {},
   "outputs": [],
   "source": [
    "yaml = \"\"\"\n",
    "einsum:\n",
    "  declaration:\n",
    "    I: [N, C, H, W]\n",
    "    F: [M, C, R, S]\n",
    "    O: [N, M, E, F]\n",
    "  expressions:\n",
    "    - O[n, m, e, f] = I[n, c, 2*e+r, 2*f+s]*F[m, c, r, s]\n",
    "mapping:\n",
    "  rank-order:\n",
    "    I: [N, C, H, W]\n",
    "    F: [M, C, R, S]\n",
    "    O: [N, M, E, F]\n",
    "  partitioning:\n",
    "    O:\n",
    "      M: [uniform_shape(M1), uniform_shape(M0)]\n",
    "      C: [uniform_shape(C0)]\n",
    "  loop-order:\n",
    "    O: [N, M2, C1, M1, C0, M0, F, E, R, S]\n",
    "  spacetime:\n",
    "    O:\n",
    "      space: [M2, C1, M0, R]\n",
    "      time: [N, M1, C0, F, E, S]\n",
    "\"\"\"\n",
    "utils.compile(yaml, generate_video = True)"
   ]
  },
  {
   "cell_type": "code",
   "execution_count": null,
   "id": "0172dd4e-abe5-4b82-a981-7a9a53e4707f",
   "metadata": {},
   "outputs": [],
   "source": [
    "utils.check_conv(I_NCHW, F_MCRS, O_NMEF, stride=Stride)"
   ]
  }
 ],
 "metadata": {
  "kernelspec": {
   "display_name": "Python 3 (ipykernel)",
   "language": "python",
   "name": "python3"
  },
  "language_info": {
   "codemirror_mode": {
    "name": "ipython",
    "version": 3
   },
   "file_extension": ".py",
   "mimetype": "text/x-python",
   "name": "python",
   "nbconvert_exporter": "python",
   "pygments_lexer": "ipython3",
   "version": "3.12.4"
  }
 },
 "nbformat": 4,
 "nbformat_minor": 5
}
