{
 "cells": [
  {
   "cell_type": "markdown",
   "id": "1c2732d4-d964-4e99-9b8b-d1725d2dac8c",
   "metadata": {},
   "source": [
    "# Flexagon\n",
    "\n",
    "This notebook reproduces the salient characteristics of the [Flexagon](https://dl.acm.org/doi/10.1145/3582016.3582069) accelerator. \n",
    "\n",
    "Flexagon supports six dataflows:\n",
    "- Inner-Product(M)\n",
    "- Outer-Product(M)\n",
    "- Gustavson(M)\n",
    "- Inner-Product(N)\n",
    "- Outer-Product(N)\n",
    "- Gustavson(N)\n",
    "\n",
    "Without loss of generality, this notebook contains only the TeAAL specifications for the (M) variants."
   ]
  },
  {
   "cell_type": "markdown",
   "id": "480a8fd2-d2b5-4bb2-83e0-2710192b7c0d",
   "metadata": {},
   "source": [
    "## Imports\n",
    "\n",
    "Import the necessary modules."
   ]
  },
  {
   "cell_type": "code",
   "execution_count": null,
   "id": "804ccea5-b178-4f88-9248-9811c5ccad15",
   "metadata": {},
   "outputs": [],
   "source": [
    "# HiFiber boilerplate\n",
    "\n",
    "from fibertree_bootstrap import *\n",
    "\n",
    "fibertree_bootstrap(style=\"tree\", animation='movie')\n",
    "\n",
    "# Compilation boilerplate\n",
    "\n",
    "import os\n",
    "import sys\n",
    "sys.path.insert(0, \"..\")\n",
    "\n",
    "from src import utils"
   ]
  },
  {
   "cell_type": "markdown",
   "id": "0ca29345-63ec-44bc-8e00-bffd37f1d395",
   "metadata": {},
   "source": [
    "## Initialization\n",
    "\n",
    "Initialize the input tensors. Tensor shapes and densities can be modified below.\n",
    "\n",
    "**Warning:** Large tensors will overwhelm the video generation. Either:\n",
    "1. Use small tensors; as a rule of thumb, fewer than 60 computes (e.g., multiplications) should be required.\n",
    "2. Do not generate a video; remove the `spacetime` specification from the `mapping` before compiling."
   ]
  },
  {
   "cell_type": "code",
   "execution_count": null,
   "id": "6ddd20c1-b3ca-4276-b9eb-493e4c02faa0",
   "metadata": {},
   "outputs": [],
   "source": [
    "K = 10\n",
    "M = 5\n",
    "N = 6\n",
    "\n",
    "num_multipliers = 4\n",
    "\n",
    "density = [0.9, 0.5]\n",
    "seed = 2\n",
    "\n",
    "A_MK = Tensor.fromRandom(rank_ids=[\"M\", \"K\"], shape=[M, K], seed=seed, density=density, name=\"A\")\n",
    "B_NK = Tensor.fromRandom(rank_ids=[\"N\", \"K\"], shape=[N, K], seed=seed + 1, density=density, name=\"B\")\n",
    "\n",
    "A_KM = A_MK.swizzleRanks([\"K\", \"M\"])\n",
    "B_KN = B_NK.swizzleRanks([\"K\", \"N\"])"
   ]
  },
  {
   "cell_type": "markdown",
   "id": "f7a8d994-ffb9-4ce6-bdfc-704a08335986",
   "metadata": {},
   "source": [
    "## Compile from TeAAL Specification and Run\n",
    "\n",
    "Below are the TeAAL specifications for Flexagon. To simulate the accelerator:\n",
    "1. Compile it to HiFiber by running the cell, inserting a new cell\n",
    "2. Run the new cell, which will\n",
    "    - Execute the kernel; multiplying the above defined matrices\n",
    "    - Generate visualizations of the actions of the kernel\n",
    "\n",
    "Remember, if you are using large tensors, remove the spacetime specification to generate a kernel that does not produce videos. Outputs can still be checked below.\n",
    "\n",
    "#### Notes\n",
    "\n",
    "- Small tensors are required for video generation. If you are using large tensors, remove the spacetime specification to generate a kernel that does not produce videos. Outputs can still be checked below.\n",
    "- Partition shapes are decreased accordingly above for visualization purposes. The real Flexagon uses `num_multipliers = 64`."
   ]
  },
  {
   "cell_type": "markdown",
   "id": "fca83c9e-ed1f-4f3d-a851-e5a1d350004c",
   "metadata": {},
   "source": [
    "### Inner-Product(M)"
   ]
  },
  {
   "cell_type": "code",
   "execution_count": null,
   "id": "e0d1c80f-85d4-4d2d-bb50-411075f57e94",
   "metadata": {},
   "outputs": [],
   "source": [
    "yaml = \"\"\"\n",
    "einsum:\n",
    "    declaration:\n",
    "        A: [K, M]\n",
    "        B: [K, N]\n",
    "        Z: [M, N]\n",
    "    expressions:\n",
    "        - Z[m, n] = A[k, m] * B[k, n]\n",
    "mapping:\n",
    "    rank-order:\n",
    "        A: [M, K]\n",
    "        B: [N, K]\n",
    "        Z: [N, M]\n",
    "    partitioning:\n",
    "        Z:\n",
    "            (M, K): [flatten()]\n",
    "            MK: [uniform_occupancy(A.num_multipliers)]\n",
    "    loop-order:\n",
    "        Z: [MK1, N, MK0]\n",
    "    spacetime:\n",
    "        Z:\n",
    "            space: [MK0]\n",
    "            time: [MK1, N]\n",
    "\"\"\"\n",
    "\n",
    "utils.compile(yaml)"
   ]
  },
  {
   "cell_type": "markdown",
   "id": "1dec37f9-8136-4d95-a6a2-dd03038b896d",
   "metadata": {},
   "source": [
    "#### Check Results\n",
    "\n",
    "Check that generated code computes the correct result.\n",
    "\n",
    "**Note**: Should be used after compiling and running the kernel (above cell)."
   ]
  },
  {
   "cell_type": "code",
   "execution_count": null,
   "id": "fa40cb05-e614-4efc-8e90-c2efdc88c5d1",
   "metadata": {},
   "outputs": [],
   "source": [
    "utils.check_matmul(A_MK, B_NK, Z_NM)"
   ]
  },
  {
   "cell_type": "markdown",
   "id": "af127e6b-fe6c-4561-8f68-cc59b67f258b",
   "metadata": {},
   "source": [
    "### Outer-Product(M)"
   ]
  },
  {
   "cell_type": "code",
   "execution_count": null,
   "id": "11c915fe-593f-4a06-b0db-99a6bf140052",
   "metadata": {},
   "outputs": [],
   "source": [
    "yaml = \"\"\"\n",
    "einsum:\n",
    "    declaration:\n",
    "        A: [K, M]\n",
    "        B: [K, N]\n",
    "        T: [K, M, N]\n",
    "        Z: [M, N]\n",
    "    expressions:\n",
    "        - T[k, m, n] = A[k, m] * B[k, n]\n",
    "        - Z[m, n] = T[k, m, n]\n",
    "mapping:\n",
    "    rank-order:\n",
    "        A: [K, M]\n",
    "        B: [K, N]\n",
    "        T: [M, K, N]\n",
    "        Z: [M, N]\n",
    "    partitioning:\n",
    "        T:\n",
    "            (K, M): [ flatten() ]\n",
    "            KM: [ uniform_occupancy(A.num_multipliers) ]\n",
    "        Z:\n",
    "            K: [ uniform_occupancy(T.num_multipliers) ]\n",
    "    loop-order:\n",
    "        T: [KM1, KM0, N]\n",
    "        Z: [M, K1, K0, N]\n",
    "    spacetime:\n",
    "        T:\n",
    "            space: [KM0]\n",
    "            time: [KM1, N]\n",
    "        Z:\n",
    "            space: [K0]\n",
    "            time: [M, K1, N]\n",
    "\"\"\"\n",
    "\n",
    "utils.compile(yaml)"
   ]
  },
  {
   "cell_type": "markdown",
   "id": "42af40b1-d762-4890-8fc7-d68f518cef5e",
   "metadata": {},
   "source": [
    "#### Check Results\n",
    "\n",
    "Check that generated code computes the correct result.\n",
    "\n",
    "**Note**: Should be used after compiling and running the kernel (above cell)."
   ]
  },
  {
   "cell_type": "code",
   "execution_count": null,
   "id": "76c5a75b-438c-443f-afea-4442e04bd1a0",
   "metadata": {},
   "outputs": [],
   "source": [
    "utils.check_matmul(A_KM, B_KN, Z_MN)"
   ]
  },
  {
   "cell_type": "markdown",
   "id": "28b493b7-9ac0-4545-a474-fca48e0d06d7",
   "metadata": {},
   "source": [
    "### Gustavson(M)"
   ]
  },
  {
   "cell_type": "code",
   "execution_count": null,
   "id": "715c1aa8-6ca4-41f2-bc73-67d8289d5c01",
   "metadata": {},
   "outputs": [],
   "source": [
    "yaml = \"\"\"\n",
    "einsum:\n",
    "    declaration:\n",
    "        A: [K, M]\n",
    "        B: [K, N]\n",
    "        Z: [M, N]\n",
    "    expressions:\n",
    "        - Z[m, n] = A[k, m] * B[k, n]\n",
    "mapping:\n",
    "    rank-order:\n",
    "        A: [M, K]\n",
    "        B: [K, N]\n",
    "        Z: [M, N]\n",
    "    partitioning:\n",
    "        Z:\n",
    "            (M, K): [flatten()]\n",
    "            MK: [uniform_occupancy(A.num_multipliers)]\n",
    "    loop-order:\n",
    "        Z: [MK1, MK0, N]\n",
    "    spacetime:\n",
    "        Z:\n",
    "            space: [MK0]\n",
    "            time: [MK1, N]\n",
    "\"\"\"\n",
    "\n",
    "utils.compile(yaml)"
   ]
  },
  {
   "cell_type": "markdown",
   "id": "ba016fc3-38e9-4815-808c-3840904712d1",
   "metadata": {},
   "source": [
    "#### Check Results\n",
    "\n",
    "Check that generated code computes the correct result.\n",
    "\n",
    "**Note**: Should be used after compiling and running the kernel (above cell)."
   ]
  },
  {
   "cell_type": "code",
   "execution_count": null,
   "id": "7e304d2a-f4e1-4503-a75f-98765d9e91a6",
   "metadata": {},
   "outputs": [],
   "source": [
    "utils.check_matmul(A_MK, B_KN, Z_MN)"
   ]
  }
 ],
 "metadata": {
  "kernelspec": {
   "display_name": "Python 3 (ipykernel)",
   "language": "python",
   "name": "python3"
  },
  "language_info": {
   "codemirror_mode": {
    "name": "ipython",
    "version": 3
   },
   "file_extension": ".py",
   "mimetype": "text/x-python",
   "name": "python",
   "nbconvert_exporter": "python",
   "pygments_lexer": "ipython3",
   "version": "3.12.7"
  }
 },
 "nbformat": 4,
 "nbformat_minor": 5
}
