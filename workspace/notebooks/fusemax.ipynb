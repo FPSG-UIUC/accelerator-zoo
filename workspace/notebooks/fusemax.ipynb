{
 "cells": [
  {
   "cell_type": "markdown",
   "id": "6fae6a15-5f0d-4dcf-9021-ea0a376c5b29",
   "metadata": {},
   "source": [
    "# FuseMax\n",
    "\n",
    "This notebook reproduces the salient characteristics of the [FuseMax](https://arxiv.org/abs/2406.10491) accelerator."
   ]
  },
  {
   "cell_type": "markdown",
   "id": "56d3663c-7e73-4f3e-a39e-52fea321187d",
   "metadata": {},
   "source": [
    "## Imports\n",
    "\n",
    "Import the necessary modules."
   ]
  },
  {
   "cell_type": "code",
   "execution_count": null,
   "id": "d288d466-1b88-4598-9e0e-0bd339da9440",
   "metadata": {},
   "outputs": [],
   "source": [
    "# HiFiber boilerplate\n",
    "\n",
    "from fibertree_bootstrap import *\n",
    "\n",
    "fibertree_bootstrap(style=\"tree\", animation='movie')\n",
    "\n",
    "# Compilation boilerplate\n",
    "\n",
    "import os\n",
    "import sys\n",
    "sys.path.insert(0, \"..\")\n",
    "\n",
    "import math\n",
    "\n",
    "from src import utils"
   ]
  },
  {
   "cell_type": "markdown",
   "id": "e8d8b051-6595-405c-aadf-e0bc77fb36b9",
   "metadata": {},
   "source": [
    "## Initialization\n",
    "\n",
    "Initialize the input tensors. Tensor shapes and densities can be modified below.\n",
    "\n",
    "**Warning:** Large tensors will overwhelm the video generation. Either:\n",
    "1. Use small tensors; as a rule of thumb, fewer than 60 computes should be required. Note that the current set of parameters (the minimum for each rank to have occupancy `> 1`) results in a 98 frame video.\n",
    "2. Disable the video generation by commenting out the line `displayCanvas()`. Tensors can still be visualized below."
   ]
  },
  {
   "cell_type": "code",
   "execution_count": null,
   "id": "5ce64fde-5a79-4278-8453-834dbbccbca6",
   "metadata": {},
   "outputs": [],
   "source": [
    "E = 2\n",
    "F = 2\n",
    "M = 4\n",
    "P = 8\n",
    "\n",
    "M0 = 2\n",
    "P0 = 2\n",
    "P1 = 4\n",
    "\n",
    "density = [1, 1]\n",
    "seed = 4\n",
    "\n",
    "Q_PE = Tensor.fromRandom(rank_ids=[\"P\", \"E\"], shape=[P, E], seed=seed, density=density, name=\"Q\")\n",
    "K_ME = Tensor.fromRandom(rank_ids=[\"M\", \"E\"], shape=[M, E], seed=seed, density=density, name=\"K\")\n",
    "V_MF = Tensor.fromRandom(rank_ids=[\"M\", \"F\"], shape=[M, F], seed=seed, density=density, name=\"V\")"
   ]
  },
  {
   "cell_type": "markdown",
   "id": "74fe7d5e-aea6-4ae9-bc7b-1f39e108f981",
   "metadata": {},
   "source": [
    "## Running FuseMax with HiFiber\n",
    "\n",
    "The TeAAL compiler is currently not sophisticated enough to compile FuseMax's cascade. We instead directly provide the HiFiber."
   ]
  },
  {
   "cell_type": "markdown",
   "id": "8a90ae7b-92f1-42eb-b0b7-b17b771d56b8",
   "metadata": {},
   "source": [
    "### FuseMax TeAAL Specification\n",
    "\n",
    "The FuseMax cascade is:\n",
    "\n",
    "$$QK_{m1,m0,p} = Q_{e,p}\\times BK_{e,m1,m0}:\\bigvee_{e}+(\\cup)$$\n",
    "\n",
    "$$LM_{m1,p} = QK_{m1,m0,p}:\\bigvee_{m0}\\text{max}(\\cup)$$\n",
    "$$RM_{m1+1,p} = max(RM_{m1,p}, LM_{m1,p})$$\n",
    "\n",
    "$$SLN_{m1,m0,p} = exp(QK_{m1,m0,p} - RM_{m1+1,p})$$\n",
    "\n",
    "$$PRM_{m1,p} = exp(RM_{m1,p} - RM_{m1+1,p})$$\n",
    "$$SPD_{m1,p} = PRM_{m1,p}\\times RD_{m1,p}$$\n",
    "$$SLD_{m1,p} = SLN_{m1,m0,p}:\\bigvee_{m0}+(\\cup)$$\n",
    "$$RD_{m1+1,p} = SPD_{m1,p} + SLD_{m1,p}$$\n",
    "\n",
    "$$SPNV_{m1,f,p} = PRM_{m1,p}\\times RNV_{m1,f,p}$$\n",
    "$$SLNV_{m1,f,p} = SLN_{m1,m0,p}\\times BV_{m1,m0,f}:\\bigvee_{m0}+(\\cup)$$\n",
    "$$RNV_{m1+1,f,p} = SPNV_{m1,f,p} +SLNV_{m1,f,p}$$\n",
    "\n",
    "$$AV_{f,p} = RNV_{M1,f,p} / RD_{M1,p}$$"
   ]
  },
  {
   "cell_type": "markdown",
   "id": "b11707b7-fc18-4aea-85ed-69c1a380e098",
   "metadata": {},
   "source": [
    "### FuseMax HiFiber\n",
    "\n",
    "The following is a loop nest representation of HiFiber. Note that this loop nest does not implement any of the software pipelining/interleaving used in the actually FuseMax. We present it in this way for pedagogical reasons.\n",
    "\n",
    "To speed up execution by skipping the video generation, comment out the last line with the code `displayCanvas()`."
   ]
  },
  {
   "cell_type": "code",
   "execution_count": null,
   "id": "e799665c-90d4-455f-88ba-3c98fb3cfd44",
   "metadata": {},
   "outputs": [],
   "source": [
    "QK_P2M1P1P0M0 = Tensor(rank_ids=[\"P2\", \"M1\", \"P1\", \"P0\", \"M0\"], name=\"QK\")\n",
    "tmp0 = Q_PE\n",
    "tmp1 = tmp0.splitUniform(P1, depth=0)\n",
    "tmp2 = tmp1.splitUniform(P0, depth=1)\n",
    "Q_P2P1P0E = tmp2\n",
    "Q_P2P1P0E.setRankIds(rank_ids=[\"P2\", \"P1\", \"P0\", \"E\"])\n",
    "tmp3 = K_ME\n",
    "tmp4 = tmp3.splitUniform(M0, depth=0)\n",
    "K_M1M0E = tmp4\n",
    "K_M1M0E.setRankIds(rank_ids=[\"M1\", \"M0\", \"E\"])\n",
    "tmp5 = V_MF\n",
    "tmp6 = tmp5.splitUniform(M0, depth=0)\n",
    "V_M1M0F = tmp6\n",
    "V_M1M0F.setRankIds(rank_ids=[\"M1\", \"M0\", \"F\"])\n",
    "qk_p2 = QK_P2M1P1P0M0.getRoot()\n",
    "q_p2 = Q_P2P1P0E.getRoot()\n",
    "k_m1 = K_M1M0E.getRoot()\n",
    "v_m1 = V_M1M0F.getRoot()\n",
    "LM_P2M1P1P0 = Tensor(rank_ids=[\"P2\", \"M1\", \"P1\", \"P0\"], name=\"LM\")\n",
    "lm_p2 = LM_P2M1P1P0.getRoot()\n",
    "RM_P2M1P1P0 = Tensor(rank_ids=[\"P2\", \"M1\", \"P1\", \"P0\"], name=\"RM\", default=-float(\"inf\"))\n",
    "rm_p2 = RM_P2M1P1P0.getRoot()\n",
    "SLN_P2M1P1P0M0 = Tensor(rank_ids=[\"P2\", \"M1\", \"P1\", \"P0\", \"M0\"], name=\"SLN\")\n",
    "sln_p2 = SLN_P2M1P1P0M0.getRoot()\n",
    "PRM_P2M1P1P0 = Tensor(rank_ids=[\"P2\", \"M1\", \"P1\", \"P0\"], name=\"PRM\")\n",
    "prm_p2 = PRM_P2M1P1P0.getRoot()\n",
    "RD_P2M1P1P0 = Tensor(rank_ids=[\"P2\", \"M1\", \"P1\", \"P0\"], name=\"RD\")\n",
    "rd_p2 = RD_P2M1P1P0.getRoot()\n",
    "SPD_P2M1P1P0 = Tensor(rank_ids=[\"P2\", \"M1\", \"P1\", \"P0\"], name=\"SPD\")\n",
    "spd_p2 = SPD_P2M1P1P0.getRoot()\n",
    "SLD_P2M1P1P0 = Tensor(rank_ids=[\"P2\", \"M1\", \"P1\", \"P0\"], name=\"SLD\")\n",
    "sld_p2 = SLD_P2M1P1P0.getRoot()\n",
    "RNV_P2M1P1P0F = Tensor(rank_ids=[\"P2\", \"M1\", \"P1\", \"P0\", \"F\"], name=\"RNV\")\n",
    "rnv_p2 = RNV_P2M1P1P0F.getRoot()\n",
    "SPNV_P2M1P1P0F = Tensor(rank_ids=[\"P2\", \"M1\", \"P1\", \"P0\", \"F\"], name=\"SPNV\")\n",
    "spnv_p2 = SPNV_P2M1P1P0F.getRoot()\n",
    "SLNV_P2M1P1P0F = Tensor(rank_ids=[\"P2\", \"M1\", \"P1\", \"P0\", \"F\"], name=\"SLNV\", shape=[P, M, P, P, F])\n",
    "slnv_p2 = SLNV_P2M1P1P0F.getRoot()\n",
    "AV_P2P1P0F = Tensor(rank_ids=[\"P2\", \"P1\", \"P0\", \"F\"], name=\"AV\")\n",
    "av_p2 = AV_P2P1P0F.getRoot()\n",
    "\n",
    "canvas = createCanvas(Q_P2P1P0E, K_M1M0E, QK_P2M1P1P0M0, LM_P2M1P1P0, RM_P2M1P1P0, SLN_P2M1P1P0M0, PRM_P2M1P1P0, RD_P2M1P1P0, SPD_P2M1P1P0, SLD_P2M1P1P0, V_M1M0F, RNV_P2M1P1P0F, SPNV_P2M1P1P0F, SLNV_P2M1P1P0F, AV_P2P1P0F)\n",
    "for p2_pos, (p2, (av_p1, (slnv_m1, (spnv_m1, (sld_m1, (spd_m1, (prm_m1, (sln_m1, (lm_m1, (qk_m1, q_p1)))))))))) in enumerate(av_p2 << (slnv_p2 << (spnv_p2 << (sld_p2 << (spd_p2 << (prm_p2 << (sln_p2 << (lm_p2 << (qk_p2 << q_p2))))))))):\n",
    "    for m1_pos, (m1, (slnv_p1, (spnv_p1, (sld_p1, (spd_p1, (prm_p1, (sln_p1, (lm_p1, (qk_p1, (v_m0, k_m0)))))))))) in enumerate(slnv_m1 << (spnv_m1 << (sld_m1 << (spd_m1 << (prm_m1 << (sln_m1 << (lm_m1 << (qk_m1 << (v_m1 & k_m1))))))))):\n",
    "        for p1_pos, (p1, (slnv_p0, (spnv_p0, (sld_p0, (spd_p0, (prm_p0, (sln_p0, (lm_p0, (qk_p0, q_p0))))))))) in enumerate(slnv_p1 << (spnv_p1 << (sld_p1 << (spd_p1 << (prm_p1 << (sln_p1 << (lm_p1 << (qk_p1 << q_p1)))))))):\n",
    "            for p0_pos, (p0, (slnv_f, (spnv_f, (sld_ref, (spd_ref, (prm_ref, (sln_m0, (lm_ref, (qk_m0, q_e))))))))) in enumerate(slnv_p0 << (spnv_p0 << (sld_p0 << (spd_p0 << (prm_p0 << (sln_p0 << (lm_p0 << (qk_p0 << q_p0)))))))):\n",
    "                for m0_pos, (m0, (qk_ref, k_e)) in enumerate(qk_m0 << k_m0):\n",
    "                    for e_pos, (e, (q_val, k_val)) in enumerate(q_e & k_e):\n",
    "                        qk_ref += q_val * k_val\n",
    "                        canvas.addActivity((p2, p1, p0, e), (m1, m0, e), (p2, m1, p1, m0, p0), (), (), (), (), (), (), (), (), (), (), (), spacetime=((m0_pos, p0_pos), (p2_pos, m1_pos, p1_pos, e_pos)))\n",
    "                        \n",
    "                    lm_ref <<= max(lm_ref, qk_ref)\n",
    "                    canvas.addActivity((), (), (p2, m1, p1, m0, p0), (p2, m1, p1, p0), (), (), (), (), (), (), (), (), (), (), (), spacetime=((m0_pos, p0_pos), (p2_pos, m1_pos, p1_pos, E, 0)))\n",
    "\n",
    "                    \n",
    "                rm_prev = rm_p2.getPayload(p2, m1, p1, p0)\n",
    "                rm_next = rm_p2.getPayloadRef(p2, m1 + M0, p1, p0) \n",
    "                rm_next <<= max(rm_prev, lm_ref)\n",
    "                canvas.addActivity((), (), (), (p2, m1, p1, p0), (p2, m1, p1, p0), (), (), (), (), (), (), (), (), (), (), spacetime=((p0_pos,), (p2_pos, m1_pos, p1_pos, E, 1)))\n",
    "                canvas.addActivity((), (), (), (), (p2, m1 + M0, p1, p0), (), (), (), (), (), (), (), (), (), (), spacetime=((p0_pos,), (p2_pos, m1_pos, p1_pos, E, 1)))\n",
    "\n",
    "                for m0_pos, (m0, (sln_ref, (qk_ref, v_f))) in enumerate(sln_m0 << (qk_m0 & v_m0)):\n",
    "                    sln_ref <<= math.exp(Payload.get(qk_ref - rm_next))\n",
    "                    canvas.addActivity((), (), (p2, m1, p1, m0, p0), (), (p2, m1 + M0, p1, p0), (p2, m1, p1, m0, p0), (), (), (), (), (), (), (), (), (), spacetime=((m0_pos, p0_pos), (p2_pos, m1_pos, p1_pos, E, 2)))\n",
    "\n",
    "                    sld_ref += sln_ref\n",
    "                    canvas.addActivity((), (), (), (), (), (p2, m1, p1, m0, p0), (), (), (), (p2, m1, p1, p0), (), (), (), (), (), spacetime=((m0_pos, p0_pos), (p2_pos, m1_pos, p1_pos, E, 3)))\n",
    "\n",
    "                    for f_pos, (f, (slnv_ref, v_val)) in enumerate(slnv_f << v_f):\n",
    "                        slnv_ref += sln_ref * v_val\n",
    "                        canvas.addActivity((), (), (), (), (), (p2, m1, p1, m0, p0), (), (), (), (), (m1, m0, f), (), (), (p2, m1, p1, p0, f), (), spacetime=((m0_pos, p0_pos), (p2_pos, m1_pos, p1_pos, E + 1, f_pos, 0)))\n",
    "\n",
    "                prm_ref <<= math.exp(Payload.get(rm_prev - rm_next))\n",
    "                canvas.addActivity((), (), (), (), (p2, m1, p1, p0), (), (p2, m1, p1, p0), (), (), (), (), (), (), (), (), spacetime=((p0_pos,), (p2_pos, m1_pos, p1_pos, E, 2)))\n",
    "                canvas.addActivity((), (), (), (), (p2, m1 + M0, p1, p0), (), (), (), (), (), (), (), (), (), (), spacetime=((p0_pos,), (p2_pos, m1_pos, p1_pos, E, 2)))\n",
    "\n",
    "                rd_prev = rd_p2.getPayload(p2, m1, p1, p0)\n",
    "                spd_ref <<= prm_ref * rd_prev\n",
    "                canvas.addActivity((), (), (), (), (), (), (p2, m1, p1, p0), (p2, m1, p1, p0), (p2, m1, p1, p0), (), (), (), (), (), (), spacetime=((p0_pos,), (p2_pos, m1_pos, p1_pos, E, 3)))\n",
    "\n",
    "                rd_next = rd_p2.getPayloadRef(p2, m1 + M0, p1, p0)\n",
    "                rd_next <<= spd_ref + sld_ref\n",
    "                canvas.addActivity((), (), (), (), (), (), (), (p2, m1 + M0, p1, p0), (p2, m1, p1, p0), (p2, m1, p1, p0), (), (), (), (), (), spacetime=((p0_pos,), (p2_pos, m1_pos, p1_pos, E, 4)))\n",
    "\n",
    "                rnv_f_prev = rnv_p2.getPayload(p2, m1, p1, p0)\n",
    "                rnv_f_next = rnv_p2.getPayloadRef(p2, m1 + M0, p1, p0)\n",
    "                for f_pos, (f, (rnv_next, (spnv_ref, (slnv_val, rnv_prev)))) in enumerate(rnv_f_next << (spnv_f << Fiber.coiterShape((slnv_f, rnv_f_prev)))):\n",
    "                    spnv_ref <<= rnv_prev * prm_ref\n",
    "                    canvas.addActivity((), (), (), (), (), (), (p2, m1, p1, p0), (), (), (), (), (p2, m1, p1, p0, f), (p2, m1, p1, p0, f), (), (), spacetime=((p0_pos,), (p2_pos, m1_pos, p1_pos, E + 1, f_pos, 0)))\n",
    "\n",
    "                    rnv_next <<= spnv_ref + slnv_val\n",
    "                    canvas.addActivity((), (), (), (), (), (), (), (), (), (), (), (p2, m1 + M0, p1, p0, f), (p2, m1, p1, p0, f), (p2, m1, p1, p0, f), (), spacetime=((p0_pos,), (p2_pos, m1_pos, p1_pos, E + 1, f_pos, 1)))\n",
    "\n",
    "    rd_m1 = rd_p2.getPayload(p2)\n",
    "    rd_p1 = rd_m1.getPayload(rd_m1.coords[-1])\n",
    "    rnv_m1 = rnv_p2.getPayload(p2)\n",
    "    rnv_p1 = rnv_m1.getPayload(rnv_m1.coords[-1])\n",
    "    for p1_pos, (p1, (av_p0, (rd_p0, rnv_p0))) in enumerate(av_p1 << (rd_p1 & rnv_p1)):\n",
    "        for p0_pos, (p0, (av_f, (rd_val, rnv_f))) in enumerate(av_p0 << (rd_p0 & rnv_p0)):\n",
    "            for f_pos, (f, (av_ref, rnv_val)) in enumerate(av_f << rnv_f):\n",
    "                av_ref <<= rnv_val / rd_val\n",
    "                canvas.addActivity((), (), (), (), (), (), (), (p2, M, p1, p0), (), (), (), (p2, M, p1, p0, f), (), (), (p2, p1, p0, f), spacetime=((p0_pos,), (p2_pos, M, p1_pos, f_pos)))\n",
    "\n",
    "AV_PF = AV_P2P1P0F.mergeRanks(depth=0, levels=2, coord_style=\"absolute\")\n",
    "\n",
    "displayCanvas(canvas)"
   ]
  },
  {
   "cell_type": "markdown",
   "id": "bca5236a-f839-4adc-8442-f13c2795abb2",
   "metadata": {},
   "source": [
    "### Visualize the Static Tensors\n",
    "\n",
    "As an alternative to the video generation, the kernel can be visualized by inspecting the involved tensors (below)."
   ]
  },
  {
   "cell_type": "code",
   "execution_count": null,
   "id": "629acfbe-d3df-47fe-bf6a-444060ac140e",
   "metadata": {},
   "outputs": [],
   "source": [
    "displayTensor(Q_P2P1P0E)\n",
    "displayTensor(K_M1M0E)\n",
    "displayTensor(QK_P2M1P1P0M0)\n",
    "displayTensor(LM_P2M1P1P0)\n",
    "displayTensor(RM_P2M1P1P0)\n",
    "displayTensor(PRM_P2M1P1P0)\n",
    "displayTensor(SLN_P2M1P1P0M0)\n",
    "displayTensor(SPD_P2M1P1P0)\n",
    "displayTensor(RD_P2M1P1P0)\n",
    "displayTensor(SLD_P2M1P1P0)\n",
    "displayTensor(V_M1M0F)\n",
    "displayTensor(SLNV_P2M1P1P0F)\n",
    "displayTensor(SPNV_P2M1P1P0F)\n",
    "displayTensor(RNV_P2M1P1P0F)\n",
    "displayTensor(AV_P2P1P0F)"
   ]
  },
  {
   "cell_type": "markdown",
   "id": "a0f57ea4-f2f3-43bb-a90e-8e0e3b47ec83",
   "metadata": {},
   "source": [
    "### Check Results\n",
    "\n",
    "Check that generated code computes the correct result.\n",
    "\n",
    "**Note**: Should be used after compiling and running the kernel (above cell)."
   ]
  },
  {
   "cell_type": "code",
   "execution_count": null,
   "id": "4da1ce61-b724-4096-9df9-e3c2399d4e6a",
   "metadata": {},
   "outputs": [],
   "source": [
    "utils.check_attn(Q_PE, K_ME, V_MF, AV_PF)"
   ]
  },
  {
   "cell_type": "code",
   "execution_count": null,
   "id": "6214d0fe-4c5c-4989-93fc-a68a15c5e078",
   "metadata": {},
   "outputs": [],
   "source": []
  }
 ],
 "metadata": {
  "kernelspec": {
   "display_name": "Python 3 (ipykernel)",
   "language": "python",
   "name": "python3"
  },
  "language_info": {
   "codemirror_mode": {
    "name": "ipython",
    "version": 3
   },
   "file_extension": ".py",
   "mimetype": "text/x-python",
   "name": "python",
   "nbconvert_exporter": "python",
   "pygments_lexer": "ipython3",
   "version": "3.12.7"
  }
 },
 "nbformat": 4,
 "nbformat_minor": 5
}
