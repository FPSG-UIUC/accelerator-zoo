{
 "cells": [
  {
   "cell_type": "markdown",
   "id": "6006d1d6-5d5e-43d9-a33d-d365b453d549",
   "metadata": {},
   "source": [
    "# Gamma\n",
    "\n",
    "This notebook reproduces the salient characteristics of the [Gamma](https://dl.acm.org/doi/pdf/10.1145/3445814.3446702) accelerator."
   ]
  },
  {
   "cell_type": "markdown",
   "id": "5f563412-8f61-43d7-a883-739b55f05617",
   "metadata": {},
   "source": [
    "## Imports\n",
    "\n",
    "Import the necessary modules."
   ]
  },
  {
   "cell_type": "code",
   "execution_count": null,
   "id": "c44f246e-9f6c-4842-b188-656164ef7e2d",
   "metadata": {},
   "outputs": [],
   "source": [
    "# HiFiber boilerplate\n",
    "\n",
    "from fibertree_bootstrap import *\n",
    "\n",
    "fibertree_bootstrap(style=\"tree\", animation='movie')\n",
    "\n",
    "# Compilation boilerplate\n",
    "\n",
    "import os\n",
    "import sys\n",
    "sys.path.insert(0, \"..\")\n",
    "\n",
    "from src import utils"
   ]
  },
  {
   "cell_type": "markdown",
   "id": "bdcb3d73-446d-4cac-b396-e71d80bc739f",
   "metadata": {},
   "source": [
    "## Initialization\n",
    "\n",
    "Initialize the input tensors. Tensor shapes and densities can be modified below.\n",
    "\n",
    "**Warning:** Large tensors will overwhelm the video generation. Either:\n",
    "1. Use small tensors; as a rule of thumb, fewer than 60 computes (e.g., multiplications) should be required.\n",
    "2. Do not generate a video; remove the `spacetime` specification from the `mapping` before compiling."
   ]
  },
  {
   "cell_type": "code",
   "execution_count": null,
   "id": "5ae8d7b0-9cde-423e-a118-4798e94a3780",
   "metadata": {},
   "outputs": [],
   "source": [
    "K = 10\n",
    "M = 5\n",
    "N = 6\n",
    "\n",
    "density = [0.9, 0.5]\n",
    "seed = 0\n",
    "\n",
    "A_MK = Tensor.fromRandom(rank_ids=[\"M\", \"K\"], shape=[M, K], seed=seed, density=density, name=\"A\")\n",
    "B_KN = Tensor.fromRandom(rank_ids=[\"K\", \"N\"], shape=[K, N], seed=seed + 1, density=density, name=\"B\")"
   ]
  },
  {
   "cell_type": "markdown",
   "id": "adf9d02e-f496-482f-ad4c-3c3ca4f02312",
   "metadata": {},
   "source": [
    "## Compile and Run\n",
    "\n",
    "Below is the TeAAL specification for Gamma. To simulate the accelerator:\n",
    "1. Compile it to HiFiber by running the cell, inserting a new cell\n",
    "2. Run the new cell, which will\n",
    "    - Execute the kernel; multiplying the above defined matrices\n",
    "    - Generate visualizations of the actions of the kernel\n",
    "\n",
    "#### Notes\n",
    "- Small tensors are required for video generation. Partition shapes are decreased accordingly for visualization purposes.\n",
    "- If you are using large tensors, remove the spacetime specification to generate a kernel that does not produce videos. Outputs can still be checked below."
   ]
  },
  {
   "cell_type": "code",
   "execution_count": null,
   "id": "bc5f371b-cdf8-4038-9abb-f517e6707457",
   "metadata": {},
   "outputs": [],
   "source": [
    "yaml = \"\"\"\n",
    "einsum:\n",
    "  declaration:\n",
    "    A: [K, M]\n",
    "    B: [K, N]\n",
    "    T: [K, M, N]\n",
    "    Z: [M, N]\n",
    "  expressions:\n",
    "    - T[k,m,n] = take(A[k,m], B[k,n], 1)\n",
    "    - Z[m,n] = T[k,m,n] * A[k,m]\n",
    "mapping:\n",
    "  rank-order:\n",
    "    A: [M, K]\n",
    "    B: [K, N]\n",
    "    T: [M, K, N]\n",
    "    Z: [M, N]\n",
    "  partitioning:\n",
    "    T:\n",
    "      M: [uniform_occupancy(A.2)]\n",
    "      K: [uniform_occupancy(A.3)]\n",
    "    Z:\n",
    "      M: [uniform_occupancy(A.2)]\n",
    "      K: [uniform_occupancy(A.3)]\n",
    "  loop-order:\n",
    "    T: [M1, M0, K1, K0, N]\n",
    "    Z: [M1, M0, K1, N, K0]\n",
    "  spacetime:\n",
    "    T:\n",
    "      space: [M0, K1]\n",
    "      time: [M1, K0, N]\n",
    "    Z:\n",
    "      space: [M0, K1]\n",
    "      time: [M1, N, K0]\n",
    "\"\"\"\n",
    "\n",
    "utils.compile(yaml)"
   ]
  },
  {
   "cell_type": "markdown",
   "id": "41699a84-4a0e-4562-8a7f-6978c07f97bb",
   "metadata": {},
   "source": [
    "## Check Results\n",
    "\n",
    "Check that generated code computes the correct result.\n",
    "\n",
    "**Note**: Should be used after compiling and running the kernel (above cell)."
   ]
  },
  {
   "cell_type": "code",
   "execution_count": null,
   "id": "9ea8f4e3-e4e0-4d8e-b0ec-40d47684b8af",
   "metadata": {},
   "outputs": [],
   "source": [
    "utils.check_matmul(A_MK, B_KN, Z_MN)"
   ]
  }
 ],
 "metadata": {
  "kernelspec": {
   "display_name": "Python 3 (ipykernel)",
   "language": "python",
   "name": "python3"
  },
  "language_info": {
   "codemirror_mode": {
    "name": "ipython",
    "version": 3
   },
   "file_extension": ".py",
   "mimetype": "text/x-python",
   "name": "python",
   "nbconvert_exporter": "python",
   "pygments_lexer": "ipython3",
   "version": "3.12.5"
  }
 },
 "nbformat": 4,
 "nbformat_minor": 5
}
