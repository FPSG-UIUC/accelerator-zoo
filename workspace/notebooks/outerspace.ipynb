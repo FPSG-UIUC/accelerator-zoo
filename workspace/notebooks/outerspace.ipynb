{
 "cells": [
  {
   "cell_type": "markdown",
   "id": "da8ab194-80e1-4d34-ae82-5fa1a3723202",
   "metadata": {},
   "source": [
    "# OuterSpace"
   ]
  },
  {
   "cell_type": "code",
   "execution_count": null,
   "id": "4f7121ca-b266-448e-9abb-749604195f48",
   "metadata": {},
   "outputs": [],
   "source": [
    "# HiFiber boilerplate\n",
    "\n",
    "from fibertree_bootstrap import *\n",
    "\n",
    "fibertree_bootstrap(style=\"tree\", animation='movie')\n",
    "\n",
    "# Compilation boilerplate\n",
    "\n",
    "import os\n",
    "import sys\n",
    "sys.path.insert(0, \"..\")\n",
    "\n",
    "from src.utils import *"
   ]
  },
  {
   "cell_type": "code",
   "execution_count": null,
   "id": "03ce4809-b4ec-4bdd-8b01-ccb12b651a64",
   "metadata": {},
   "outputs": [],
   "source": [
    "K = 4\n",
    "M = 5\n",
    "N = 6\n",
    "\n",
    "seed = 0\n",
    "\n",
    "A_KM = Tensor.fromRandom(rank_ids=[\"K\", \"M\"], shape=[K, M], seed=seed, density=[0.9, 0.5], name=\"A\")\n",
    "B_KN = Tensor.fromRandom(rank_ids=[\"K\", \"N\"], shape=[K, N], seed=seed + 1, density=[0.9, 0.5], name=\"B\")"
   ]
  },
  {
   "cell_type": "markdown",
   "id": "7a6ac8e1-9ecd-4c83-8f19-1eb6b01a5d13",
   "metadata": {},
   "source": [
    "Note: Small tensors are required for video generation. Partition shapes are decreased for visualization purposes."
   ]
  },
  {
   "cell_type": "code",
   "execution_count": null,
   "id": "843a8949-3e36-4155-9e6a-a922d7cbb205",
   "metadata": {},
   "outputs": [],
   "source": [
    "yaml = \"\"\"\n",
    "einsum:\n",
    "    declaration:\n",
    "        A: [K, M]\n",
    "        B: [K, N]\n",
    "        T: [K, M, N]\n",
    "        Z: [M, N]\n",
    "    expressions:\n",
    "        - T[k, m, n] = A[k, m] * B[k, n]\n",
    "        - Z[m, n] = T[k, m, n]\n",
    "mapping:\n",
    "    rank−order:\n",
    "        A: [K, M]\n",
    "        B: [K, N]\n",
    "        T: [M, K, N]\n",
    "        Z: [M, N]\n",
    "    partitioning:\n",
    "        T:\n",
    "            (K, M): [flatten()]\n",
    "            KM: [uniform_occupancy(A.4), uniform_occupancy(A.2)]\n",
    "        Z:\n",
    "            M: [uniform_occupancy(T.4), uniform_occupancy(T.2)]\n",
    "    loop−order:\n",
    "        T: [KM2, KM1, KM0, N]\n",
    "        Z: [M2, M1, M0, N, K]\n",
    "    spacetime:\n",
    "        T:\n",
    "            space: [KM1, KM0]\n",
    "            time: [KM2, N]\n",
    "        Z:\n",
    "            space: [M1, M0]\n",
    "            time: [M2, N, K]\n",
    "\"\"\"\n",
    "\n",
    "compile(yaml)"
   ]
  }
 ],
 "metadata": {
  "kernelspec": {
   "display_name": "Python 3 (ipykernel)",
   "language": "python",
   "name": "python3"
  },
  "language_info": {
   "codemirror_mode": {
    "name": "ipython",
    "version": 3
   },
   "file_extension": ".py",
   "mimetype": "text/x-python",
   "name": "python",
   "nbconvert_exporter": "python",
   "pygments_lexer": "ipython3",
   "version": "3.12.4"
  }
 },
 "nbformat": 4,
 "nbformat_minor": 5
}
