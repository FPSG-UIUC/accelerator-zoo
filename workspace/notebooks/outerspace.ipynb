{
 "cells": [
  {
   "cell_type": "markdown",
   "id": "da8ab194-80e1-4d34-ae82-5fa1a3723202",
   "metadata": {},
   "source": [
    "# OuterSpace"
   ]
  },
  {
   "cell_type": "code",
   "execution_count": 1,
   "id": "4f7121ca-b266-448e-9abb-749604195f48",
   "metadata": {},
   "outputs": [
    {
     "name": "stdout",
     "output_type": "stream",
     "text": [
      "Running bootstrap\n",
      "The fibertree module is already installed and available to import\n"
     ]
    },
    {
     "data": {
      "application/vnd.jupyter.widget-view+json": {
       "model_id": "0389399b39ba4905afab10d43e05b408",
       "version_major": 2,
       "version_minor": 0
      },
      "text/plain": [
       "interactive(children=(Dropdown(description='style', options=('tree', 'uncompressed', 'tree+uncompressed'), val…"
      ]
     },
     "metadata": {},
     "output_type": "display_data"
    },
    {
     "data": {
      "application/vnd.jupyter.widget-view+json": {
       "model_id": "edc8eafe8d06456aa2372a2dd1ca3c4a",
       "version_major": 2,
       "version_minor": 0
      },
      "text/plain": [
       "Button(description='Run all cells below', style=ButtonStyle())"
      ]
     },
     "metadata": {},
     "output_type": "display_data"
    }
   ],
   "source": [
    "# HiFiber boilerplate\n",
    "\n",
    "from fibertree_bootstrap import *\n",
    "\n",
    "fibertree_bootstrap(style=\"tree\", animation='movie')\n",
    "\n",
    "# Compilation boilerplate\n",
    "\n",
    "import os\n",
    "import sys\n",
    "sys.path.insert(0, \"..\")\n",
    "\n",
    "from src.utils import *"
   ]
  },
  {
   "cell_type": "code",
   "execution_count": 2,
   "id": "03ce4809-b4ec-4bdd-8b01-ccb12b651a64",
   "metadata": {},
   "outputs": [],
   "source": [
    "K = 5\n",
    "M = 6\n",
    "N = 4\n",
    "\n",
    "seed = 0\n",
    "\n",
    "A_KM = Tensor.fromRandom(rank_ids=[\"K\", \"M\"], shape=[K, M], seed=seed, density=[0.75, 0.5], name=\"A\")\n",
    "B_KN = Tensor.fromRandom(rank_ids=[\"K\", \"N\"], shape=[K, N], seed=seed + 1, density=[0.75, 0.5], name=\"B\")"
   ]
  },
  {
   "cell_type": "code",
   "execution_count": 3,
   "id": "edfaab07-d129-49d0-9895-d7f664da2f0b",
   "metadata": {},
   "outputs": [
    {
     "name": "stdout",
     "output_type": "stream",
     "text": [
      "{(0, 4): [(3, 0)]}\n",
      "{(0, 4): [(3, 0)]}\n",
      "{(0, 4): [(0, 0), (0, 0), (3, 0), 0]}\n"
     ]
    },
    {
     "ename": "TypeError",
     "evalue": "'<' not supported between instances of 'tuple' and 'int'",
     "output_type": "error",
     "traceback": [
      "\u001b[0;31m---------------------------------------------------------------------------\u001b[0m",
      "\u001b[0;31mTypeError\u001b[0m                                 Traceback (most recent call last)",
      "Cell \u001b[0;32mIn[3], line 30\u001b[0m\n\u001b[1;32m     28\u001b[0m             \u001b[38;5;28;01mfor\u001b[39;00m n_pos, (n, (t_ref, b_val)) \u001b[38;5;129;01min\u001b[39;00m \u001b[38;5;28menumerate\u001b[39m(t_n \u001b[38;5;241m<<\u001b[39m b_n):\n\u001b[1;32m     29\u001b[0m                 t_ref \u001b[38;5;241m+\u001b[39m\u001b[38;5;241m=\u001b[39m a_val \u001b[38;5;241m*\u001b[39m b_val\n\u001b[0;32m---> 30\u001b[0m                 \u001b[43mcanvas\u001b[49m\u001b[38;5;241;43m.\u001b[39;49m\u001b[43maddActivity\u001b[49m\u001b[43m(\u001b[49m\u001b[43m(\u001b[49m\u001b[43m(\u001b[49m\u001b[43mk\u001b[49m\u001b[43m,\u001b[49m\u001b[43m \u001b[49m\u001b[43mm\u001b[49m\u001b[43m)\u001b[49m\u001b[43m,\u001b[49m\u001b[43m)\u001b[49m\u001b[43m,\u001b[49m\u001b[43m \u001b[49m\u001b[43m(\u001b[49m\u001b[43mk\u001b[49m\u001b[43m,\u001b[49m\u001b[43m \u001b[49m\u001b[43mn\u001b[49m\u001b[43m)\u001b[49m\u001b[43m,\u001b[49m\u001b[43m \u001b[49m\u001b[43m(\u001b[49m\u001b[43mkm2\u001b[49m\u001b[43m,\u001b[49m\u001b[43m \u001b[49m\u001b[43mkm1\u001b[49m\u001b[43m,\u001b[49m\u001b[43m \u001b[49m\u001b[43m(\u001b[49m\u001b[43mk\u001b[49m\u001b[43m,\u001b[49m\u001b[43m \u001b[49m\u001b[43mm\u001b[49m\u001b[43m)\u001b[49m\u001b[43m,\u001b[49m\u001b[43m \u001b[49m\u001b[43mn\u001b[49m\u001b[43m)\u001b[49m\u001b[43m,\u001b[49m\u001b[43m \u001b[49m\u001b[43mspacetime\u001b[49m\u001b[38;5;241;43m=\u001b[39;49m\u001b[43m(\u001b[49m\u001b[43m(\u001b[49m\u001b[43mkm1_pos\u001b[49m\u001b[43m,\u001b[49m\u001b[43m \u001b[49m\u001b[43mkm0_pos\u001b[49m\u001b[43m)\u001b[49m\u001b[43m,\u001b[49m\u001b[43m \u001b[49m\u001b[43m(\u001b[49m\u001b[43mkm2_pos\u001b[49m\u001b[43m,\u001b[49m\u001b[43m \u001b[49m\u001b[43mn_pos\u001b[49m\u001b[43m)\u001b[49m\u001b[43m)\u001b[49m\u001b[43m)\u001b[49m\n\u001b[1;32m     31\u001b[0m tmp6 \u001b[38;5;241m=\u001b[39m T_KM2KM1KM0N\n\u001b[1;32m     32\u001b[0m tmp7 \u001b[38;5;241m=\u001b[39m tmp6\u001b[38;5;241m.\u001b[39mswizzleRanks(rank_ids\u001b[38;5;241m=\u001b[39m[\u001b[38;5;124m\"\u001b[39m\u001b[38;5;124mN\u001b[39m\u001b[38;5;124m\"\u001b[39m, \u001b[38;5;124m\"\u001b[39m\u001b[38;5;124mKM2\u001b[39m\u001b[38;5;124m\"\u001b[39m, \u001b[38;5;124m\"\u001b[39m\u001b[38;5;124mKM1\u001b[39m\u001b[38;5;124m\"\u001b[39m, \u001b[38;5;124m\"\u001b[39m\u001b[38;5;124mKM0\u001b[39m\u001b[38;5;124m\"\u001b[39m])\n",
      "File \u001b[0;32m~/accelerator-zoo/env/src/fibertree/fibertree/graphics/tensor_canvas.py:292\u001b[0m, in \u001b[0;36mTensorCanvas.addActivity\u001b[0;34m(self, spacetime, worker, skew, wait, end_frame, *highlights)\u001b[0m\n\u001b[1;32m    287\u001b[0m     skew \u001b[38;5;241m=\u001b[39m \u001b[38;5;28mmax\u001b[39m(skew, delay)\n\u001b[1;32m    289\u001b[0m \u001b[38;5;66;03m#\u001b[39;00m\n\u001b[1;32m    290\u001b[0m \u001b[38;5;66;03m# Tell the canvas to remember the current tensor states\u001b[39;00m\n\u001b[1;32m    291\u001b[0m \u001b[38;5;66;03m#\u001b[39;00m\n\u001b[0;32m--> 292\u001b[0m log_idx \u001b[38;5;241m=\u001b[39m \u001b[38;5;28;43mself\u001b[39;49m\u001b[38;5;241;43m.\u001b[39;49m\u001b[43m_logChanges\u001b[49m\u001b[43m(\u001b[49m\u001b[38;5;241;43m*\u001b[39;49m\u001b[43mhighlights_list\u001b[49m\u001b[43m,\u001b[49m\u001b[43m \u001b[49m\u001b[43mtimestamp\u001b[49m\u001b[38;5;241;43m=\u001b[39;49m\u001b[43mtimestamp\u001b[49m\u001b[43m)\u001b[49m\n\u001b[1;32m    294\u001b[0m \u001b[38;5;66;03m#\u001b[39;00m\n\u001b[1;32m    295\u001b[0m \u001b[38;5;66;03m# Collect the highlights for this frame accounting for global time\u001b[39;00m\n\u001b[1;32m    296\u001b[0m \u001b[38;5;66;03m#\u001b[39;00m\n\u001b[0;32m   (...)\u001b[0m\n\u001b[1;32m    299\u001b[0m \u001b[38;5;66;03m#      the activity for a worker\u001b[39;00m\n\u001b[1;32m    300\u001b[0m \u001b[38;5;66;03m#\u001b[39;00m\n\u001b[1;32m    301\u001b[0m active_highlights \u001b[38;5;241m=\u001b[39m \u001b[38;5;28mself\u001b[39m\u001b[38;5;241m.\u001b[39mlog[log_idx]\u001b[38;5;241m.\u001b[39mhighlights\n",
      "File \u001b[0;32m~/accelerator-zoo/env/src/fibertree/fibertree/graphics/tensor_canvas.py:502\u001b[0m, in \u001b[0;36mTensorCanvas._logChanges\u001b[0;34m(self, timestamp, *highlights)\u001b[0m\n\u001b[1;32m    498\u001b[0m     point \u001b[38;5;241m=\u001b[39m (point,)\n\u001b[1;32m    500\u001b[0m points[tnum]\u001b[38;5;241m.\u001b[39mappend(point)\n\u001b[0;32m--> 502\u001b[0m payload \u001b[38;5;241m=\u001b[39m \u001b[43mtensors\u001b[49m\u001b[43m[\u001b[49m\u001b[43mtnum\u001b[49m\u001b[43m]\u001b[49m\u001b[38;5;241;43m.\u001b[39;49m\u001b[43mgetPayload\u001b[49m\u001b[43m(\u001b[49m\u001b[38;5;241;43m*\u001b[39;49m\u001b[43mpoint\u001b[49m\u001b[43m)\u001b[49m\n\u001b[1;32m    503\u001b[0m values[tnum]\u001b[38;5;241m.\u001b[39mappend(copy\u001b[38;5;241m.\u001b[39mdeepcopy(payload))\n\u001b[1;32m    505\u001b[0m \u001b[38;5;28;01mif\u001b[39;00m update_times \u001b[38;5;129;01mis\u001b[39;00m \u001b[38;5;129;01mnot\u001b[39;00m \u001b[38;5;28;01mNone\u001b[39;00m:\n",
      "File \u001b[0;32m~/accelerator-zoo/env/src/fibertree/fibertree/core/tensor.py:1094\u001b[0m, in \u001b[0;36mTensor.getPayload\u001b[0;34m(self, *args, **kwargs)\u001b[0m\n\u001b[1;32m   1090\u001b[0m \u001b[38;5;28;01mif\u001b[39;00m \u001b[38;5;28misinstance\u001b[39m(root, Payload):\n\u001b[1;32m   1091\u001b[0m     \u001b[38;5;66;03m# Handle rank-0 tensor\u001b[39;00m\n\u001b[1;32m   1092\u001b[0m     \u001b[38;5;28;01mreturn\u001b[39;00m root\n\u001b[0;32m-> 1094\u001b[0m \u001b[38;5;28;01mreturn\u001b[39;00m \u001b[43mroot\u001b[49m\u001b[38;5;241;43m.\u001b[39;49m\u001b[43mgetPayload\u001b[49m\u001b[43m(\u001b[49m\u001b[38;5;241;43m*\u001b[39;49m\u001b[43margs\u001b[49m\u001b[43m,\u001b[49m\u001b[43m \u001b[49m\u001b[38;5;241;43m*\u001b[39;49m\u001b[38;5;241;43m*\u001b[39;49m\u001b[43mkwargs\u001b[49m\u001b[43m)\u001b[49m\n",
      "File \u001b[0;32m~/accelerator-zoo/env/src/fibertree/fibertree/core/fiber.py:830\u001b[0m, in \u001b[0;36mFiber.getPayload\u001b[0;34m(self, default, allocate, start_pos, trace, *coords)\u001b[0m\n\u001b[1;32m    826\u001b[0m         index \u001b[38;5;241m=\u001b[39m start_pos\n\u001b[1;32m    829\u001b[0m \u001b[38;5;28;01mif\u001b[39;00m do_search:\n\u001b[0;32m--> 830\u001b[0m     index \u001b[38;5;241m=\u001b[39m \u001b[38;5;28;43mself\u001b[39;49m\u001b[38;5;241;43m.\u001b[39;49m\u001b[43m_coord2pos\u001b[49m\u001b[43m(\u001b[49m\u001b[43mcoord0\u001b[49m\u001b[43m,\u001b[49m\u001b[43m \u001b[49m\u001b[43mstart_pos\u001b[49m\u001b[38;5;241;43m=\u001b[39;49m\u001b[43mstart_pos\u001b[49m\u001b[43m)\u001b[49m\n\u001b[1;32m    831\u001b[0m     existing \u001b[38;5;241m=\u001b[39m \u001b[38;5;28mself\u001b[39m\u001b[38;5;241m.\u001b[39m_coordExists(coord0, index)\n\u001b[1;32m    833\u001b[0m \u001b[38;5;28;01mif\u001b[39;00m existing:\n",
      "File \u001b[0;32m~/accelerator-zoo/env/src/fibertree/fibertree/core/fiber.py:5009\u001b[0m, in \u001b[0;36mFiber._coord2pos\u001b[0;34m(self, coord, start_pos, coords)\u001b[0m\n\u001b[1;32m   5001\u001b[0m \u001b[38;5;28;01mif\u001b[39;00m \u001b[38;5;28mself\u001b[39m\u001b[38;5;241m.\u001b[39m_ordered:\n\u001b[1;32m   5002\u001b[0m     \u001b[38;5;66;03m#\u001b[39;00m\n\u001b[1;32m   5003\u001b[0m     \u001b[38;5;66;03m# Find coordinate in an ordered fiber\u001b[39;00m\n\u001b[1;32m   5004\u001b[0m     \u001b[38;5;66;03m#\u001b[39;00m\n\u001b[1;32m   5005\u001b[0m     \u001b[38;5;28;01mif\u001b[39;00m start_pos \u001b[38;5;129;01mis\u001b[39;00m \u001b[38;5;28;01mNone\u001b[39;00m:\n\u001b[1;32m   5006\u001b[0m         \u001b[38;5;66;03m#\u001b[39;00m\n\u001b[1;32m   5007\u001b[0m         \u001b[38;5;66;03m# Do a bisection search\u001b[39;00m\n\u001b[1;32m   5008\u001b[0m         \u001b[38;5;66;03m#\u001b[39;00m\n\u001b[0;32m-> 5009\u001b[0m         index \u001b[38;5;241m=\u001b[39m \u001b[43mbisect\u001b[49m\u001b[38;5;241;43m.\u001b[39;49m\u001b[43mbisect_left\u001b[49m\u001b[43m(\u001b[49m\u001b[43mcoords\u001b[49m\u001b[43m,\u001b[49m\u001b[43m \u001b[49m\u001b[43mcoord\u001b[49m\u001b[43m)\u001b[49m\n\u001b[1;32m   5010\u001b[0m     \u001b[38;5;28;01melse\u001b[39;00m:\n\u001b[1;32m   5011\u001b[0m         \u001b[38;5;66;03m#\u001b[39;00m\n\u001b[1;32m   5012\u001b[0m         \u001b[38;5;66;03m# Search linearly starting at `start_pos`\u001b[39;00m\n\u001b[1;32m   5013\u001b[0m         \u001b[38;5;66;03m# Seach ends when the coordinate is found or passed\u001b[39;00m\n\u001b[1;32m   5014\u001b[0m         \u001b[38;5;66;03m#\u001b[39;00m\n\u001b[1;32m   5015\u001b[0m         index \u001b[38;5;241m=\u001b[39m \u001b[38;5;28mlen\u001b[39m(coords)\n",
      "\u001b[0;31mTypeError\u001b[0m: '<' not supported between instances of 'tuple' and 'int'"
     ]
    }
   ],
   "source": [
    "# Autogenerated HiFiber\n",
    "\n",
    "T_KM2KM1KM0N = Tensor(rank_ids=[\"KM2\", \"KM1\", \"KM0\", \"N\"], name=\"T\")\n",
    "t_km2 = T_KM2KM1KM0N.getRoot()\n",
    "tmp0 = A_KM\n",
    "tmp1 = tmp0.flattenRanks(depth=0, levels=1, coord_style=\"tuple\")\n",
    "A_KM_flat = tmp1\n",
    "A_KM_flat.setRankIds(rank_ids=[\"KM\"])\n",
    "b_k = B_KN.getRoot()\n",
    "a_km = A_KM_flat.getRoot()\n",
    "canvas = createCanvas(A_KM_flat, B_KN, T_KM2KM1KM0N)\n",
    "A_KM_flat = Tensor.fromFiber(rank_ids=[\"KM\"], fiber=a_km)\n",
    "tmp2 = A_KM_flat\n",
    "tmp3 = tmp2.splitEqual(256)\n",
    "A_KM2KM1I = tmp3\n",
    "A_KM2KM1I.setRankIds(rank_ids=[\"KM2\", \"KM1I\"])\n",
    "a_km2 = A_KM2KM1I.getRoot()\n",
    "for km2_pos, (km2, (t_km1, a_km1i)) in enumerate(t_km2 << a_km2):\n",
    "    A_KM1I = Tensor.fromFiber(rank_ids=[\"KM1I\"], fiber=a_km1i)\n",
    "    tmp4 = A_KM1I\n",
    "    tmp5 = tmp4.splitEqual(16)\n",
    "    A_KM1KM0 = tmp5\n",
    "    A_KM1KM0.setRankIds(rank_ids=[\"KM1\", \"KM0\"])\n",
    "    a_km1 = A_KM1KM0.getRoot()\n",
    "    for km1_pos, (km1, (t_km0, a_km0)) in enumerate(t_km1 << a_km1):\n",
    "        for km0_pos, ((k, m), (t_n, a_val)) in enumerate(t_km0 << a_km0):\n",
    "            b_n = b_k.getPayload(k)\n",
    "            for n_pos, (n, (t_ref, b_val)) in enumerate(t_n << b_n):\n",
    "                t_ref += a_val * b_val\n",
    "                canvas.addActivity(((k, m),), (k, n), (km2, km1, (k, m), n), spacetime=((km1_pos, km0_pos), (km2_pos, n_pos)))\n",
    "tmp6 = T_KM2KM1KM0N\n",
    "tmp7 = tmp6.swizzleRanks(rank_ids=[\"N\", \"KM2\", \"KM1\", \"KM0\"])\n",
    "tmp8 = tmp7.mergeRanks(depth=1, levels=2, coord_style=\"absolute\")\n",
    "tmp9 = tmp8.unflattenRanks(depth=1, levels=1)\n",
    "tmp9.setRankIds(rank_ids=[\"N\", \"K\", \"M\"])\n",
    "tmp10 = tmp9.swizzleRanks(rank_ids=[\"K\", \"M\", \"N\"])\n",
    "T_KMN = tmp10\n",
    "displayCanvas(canvas)"
   ]
  },
  {
   "cell_type": "code",
   "execution_count": null,
   "id": "843a8949-3e36-4155-9e6a-a922d7cbb205",
   "metadata": {},
   "outputs": [],
   "source": [
    "yaml = \"\"\"\n",
    "einsum:\n",
    "    declaration:\n",
    "        A: [K, M]\n",
    "        B: [K, N]\n",
    "        T: [K, M, N]\n",
    "        Z: [M, N]\n",
    "    expressions:\n",
    "        - T[k, m, n] = A[k, m] * B[k, n]\n",
    "        - Z[m, n] = T[k, m, n]\n",
    "mapping:\n",
    "    rank−order:\n",
    "        A: [K, M]\n",
    "        B: [K, N]\n",
    "        T: [M, K, N]\n",
    "        Z: [M, N]\n",
    "    partitioning:\n",
    "        T:\n",
    "            (K, M): [flatten()]\n",
    "            KM: [uniform_occupancy(A.256), uniform_occupancy(A.16)]\n",
    "        Z:\n",
    "            M: [uniform_occupancy(T.128), uniform_occupancy(T.8)]\n",
    "    loop−order:\n",
    "        T: [KM2, KM1, KM0, N]\n",
    "        Z: [M2, M1, M0, N, K]\n",
    "    spacetime:\n",
    "        T:\n",
    "            space: [KM1, KM0]\n",
    "            time: [KM2, N]\n",
    "        Z:\n",
    "            space: [M1, M0]\n",
    "            time: [M2, N, K]\n",
    "\"\"\"\n",
    "\n",
    "compile(yaml)"
   ]
  },
  {
   "cell_type": "code",
   "execution_count": null,
   "id": "8eba2226-7867-4243-822c-0ed01c7e72a4",
   "metadata": {},
   "outputs": [],
   "source": []
  }
 ],
 "metadata": {
  "kernelspec": {
   "display_name": "Python 3 (ipykernel)",
   "language": "python",
   "name": "python3"
  },
  "language_info": {
   "codemirror_mode": {
    "name": "ipython",
    "version": 3
   },
   "file_extension": ".py",
   "mimetype": "text/x-python",
   "name": "python",
   "nbconvert_exporter": "python",
   "pygments_lexer": "ipython3",
   "version": "3.12.4"
  }
 },
 "nbformat": 4,
 "nbformat_minor": 5
}
