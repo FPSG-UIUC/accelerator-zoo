{
 "cells": [
  {
   "cell_type": "markdown",
   "id": "da8ab194-80e1-4d34-ae82-5fa1a3723202",
   "metadata": {},
   "source": [
    "# SIGMA\n",
    "\n",
    "This notebook reproduces the salient characteristics of the [SIGMA](https://ieeexplore.ieee.org/document/9065523) accelerator."
   ]
  },
  {
   "cell_type": "markdown",
   "id": "d2291f3e-e046-44b0-a97f-6feaf9101f44",
   "metadata": {},
   "source": [
    "## Imports\n",
    "\n",
    "Import the necessary modules."
   ]
  },
  {
   "cell_type": "code",
   "execution_count": null,
   "id": "4f7121ca-b266-448e-9abb-749604195f48",
   "metadata": {},
   "outputs": [],
   "source": [
    "# HiFiber boilerplate\n",
    "\n",
    "from fibertree_bootstrap import *\n",
    "\n",
    "fibertree_bootstrap(style=\"tree\", animation='movie')\n",
    "\n",
    "# Compilation boilerplate\n",
    "\n",
    "import os\n",
    "import sys\n",
    "sys.path.insert(0, \"..\")\n",
    "\n",
    "from src.utils import *"
   ]
  },
  {
   "cell_type": "markdown",
   "id": "dffe9e3f-506c-4d0d-a3cc-b703a142b517",
   "metadata": {},
   "source": [
    "## Initialization\n",
    "\n",
    "Initialize the input tensors. Tensor shapes and densities can be modified below.\n",
    "\n",
    "**Warning:** Large tensors will overwhelm the video generation. Either:\n",
    "1. Use small tensors; as a rule of thumb, fewer than 60 computes (e.g., multiplications) should be required.\n",
    "2. Do not generate a video; remove the `spacetime` specification from the `mapping` before compiling."
   ]
  },
  {
   "cell_type": "code",
   "execution_count": null,
   "id": "03ce4809-b4ec-4bdd-8b01-ccb12b651a64",
   "metadata": {},
   "outputs": [],
   "source": [
    "K = 4\n",
    "M = 5\n",
    "N = 6\n",
    "\n",
    "density = [0.9, 0.5]\n",
    "seed = 0\n",
    "\n",
    "A_KM = Tensor.fromRandom(rank_ids=[\"K\", \"M\"], shape=[K, M], seed=seed, density=density, name=\"A\")\n",
    "B_KN = Tensor.fromRandom(rank_ids=[\"K\", \"N\"], shape=[K, N], seed=seed + 1, density=density, name=\"B\")"
   ]
  },
  {
   "cell_type": "markdown",
   "id": "7a6ac8e1-9ecd-4c83-8f19-1eb6b01a5d13",
   "metadata": {},
   "source": [
    "Note: Small tensors are required for video generation. Partition shapes are decreased for visualization purposes."
   ]
  },
  {
   "cell_type": "markdown",
   "id": "92e1f1d1-3a19-4436-a299-7b226d79d894",
   "metadata": {},
   "source": [
    "## Compile and Run\n",
    "\n",
    "Below is the TeAAL specification for OuterSpace. To simulate the accelerator:\n",
    "1. Compile it to HiFiber by running the cell, inserting a new cell\n",
    "2. Run the new cell, which will\n",
    "    - Execute the kernel; multiplying the above defined matrices\n",
    "    - Generate visualizations of the actions of the kernel\n",
    "\n",
    "Remember, if you are using large tensors, remove the spacetime specification to generate a kernel that does not produce videos. Outputs can still be checked below."
   ]
  },
  {
   "cell_type": "code",
   "execution_count": null,
   "id": "843a8949-3e36-4155-9e6a-a922d7cbb205",
   "metadata": {},
   "outputs": [],
   "source": [
    "yaml = \"\"\"\n",
    "einsum:\n",
    "    declaration:\n",
    "        A: [K, M]\n",
    "        B: [K, N]\n",
    "        S: [K, M]\n",
    "        T: [K, M]\n",
    "        Z: [M, N]\n",
    "    expressions:\n",
    "        - S[k, m] = take(A[k, m], B[k, n], 0)\n",
    "        - T[k, m] = take(A[k, m], S[k, m], 0)\n",
    "        - Z[m, n] = T[k, m] * B[k, n]\n",
    "mapping:\n",
    "    rank-order:\n",
    "        A: [K, M]\n",
    "        B: [K, N]\n",
    "        S: [K, M]\n",
    "        T: [K, M]\n",
    "        Z: [M, N]\n",
    "    partitioning:\n",
    "        Z:\n",
    "            K: [uniform_shape(2)]\n",
    "            (M, K0): [flatten()]\n",
    "            MK0: [uniform_occupancy(T.4)]\n",
    "    loop-order:\n",
    "        S: [K, M, N]\n",
    "        T: [K, M]\n",
    "        Z: [K1, MK01, MK00, N]\n",
    "    spacetime:\n",
    "        S:\n",
    "            space: []\n",
    "            time: [K, M, N]\n",
    "        T:\n",
    "            space: []\n",
    "            time: [K, M]\n",
    "        Z:\n",
    "            space: [MK00]\n",
    "            time: [K1, MK01, N.coord]\n",
    "\"\"\"\n",
    "\n",
    "compile(yaml)"
   ]
  },
  {
   "cell_type": "markdown",
   "id": "7ea3a482-a073-4d70-a99e-1e250e23c9e0",
   "metadata": {},
   "source": [
    "## Check Results\n",
    "\n",
    "Check that generated code computes the correct result.\n",
    "\n",
    "**Note**: Should be used after compiling and running the kernel (above cell)"
   ]
  },
  {
   "cell_type": "code",
   "execution_count": null,
   "id": "a100afbb-604c-4b09-a5e6-be67f44f66c8",
   "metadata": {},
   "outputs": [],
   "source": [
    "check_matmul(A_KM, B_KN, Z_MN)"
   ]
  }
 ],
 "metadata": {
  "kernelspec": {
   "display_name": "Python 3 (ipykernel)",
   "language": "python",
   "name": "python3"
  },
  "language_info": {
   "codemirror_mode": {
    "name": "ipython",
    "version": 3
   },
   "file_extension": ".py",
   "mimetype": "text/x-python",
   "name": "python",
   "nbconvert_exporter": "python",
   "pygments_lexer": "ipython3",
   "version": "3.12.5"
  }
 },
 "nbformat": 4,
 "nbformat_minor": 5
}
