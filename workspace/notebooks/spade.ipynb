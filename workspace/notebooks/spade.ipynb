{
 "cells": [
  {
   "cell_type": "markdown",
   "id": "53451745-f967-48fc-abb4-d69d21a9d957",
   "metadata": {},
   "source": [
    "# SPADE\n",
    "\n",
    "This notebook reproduces the salient characteristics of the [SPADE](https://dl.acm.org/doi/10.1145/3579371.3589054) accelerator."
   ]
  },
  {
   "cell_type": "markdown",
   "id": "a52fb131-9d00-40ea-aba3-f732e76ff809",
   "metadata": {},
   "source": [
    "## Imports\n",
    "\n",
    "Import the necessary modules."
   ]
  },
  {
   "cell_type": "code",
   "execution_count": null,
   "id": "befec4d0-1ff9-4356-98ed-c23dc27812eb",
   "metadata": {},
   "outputs": [],
   "source": [
    "# HiFiber boilerplate\n",
    "\n",
    "from fibertree_bootstrap import *\n",
    "\n",
    "fibertree_bootstrap(style=\"tree\", animation='movie')\n",
    "\n",
    "# Compilation boilerplate\n",
    "\n",
    "import os\n",
    "import sys\n",
    "sys.path.insert(0, \"..\")\n",
    "\n",
    "from src import utils"
   ]
  },
  {
   "cell_type": "markdown",
   "id": "1583cba0-e47c-4c49-a0cf-0d6d0f1333d9",
   "metadata": {},
   "source": [
    "## Initialization\n",
    "\n",
    "Initialize the input tensors. Tensor shapes and densities can be modified below.\n",
    "\n",
    "**Warning:** Large tensors will overwhelm the video generation. Either:\n",
    "1. Use small tensors; as a rule of thumb, fewer than 60 computes (e.g., multiplications) should be required.\n",
    "2. Do not generate a video; remove the `spacetime` specification from the `mapping` before compiling."
   ]
  },
  {
   "cell_type": "code",
   "execution_count": null,
   "id": "20d1a647-ee64-41f6-a89e-d7ad1e63371b",
   "metadata": {},
   "outputs": [],
   "source": [
    "K = 8\n",
    "M = 12\n",
    "N = 2\n",
    "\n",
    "row_panel_shape = 2\n",
    "col_panel_shape = 2\n",
    "tiles_before_barrier = 2\n",
    "elems_before_barrier = col_panel_shape * tiles_before_barrier\n",
    "num_pes = 3\n",
    "rows_to_all_pes = num_pes * row_panel_shape\n",
    "\n",
    "density = [0.9, 0.5]\n",
    "seed = 1\n",
    "\n",
    "A_MK = Tensor.fromRandom(rank_ids=[\"M\", \"K\"], shape=[M, K], seed=seed, density=density, name=\"A\")\n",
    "B_KN = Tensor.fromRandom(rank_ids=[\"K\", \"N\"], shape=[K, N], seed=seed + 1, density=[1, 1], name=\"B\")\n",
    "C_MN = Tensor.fromRandom(rank_ids=[\"M\", \"N\"], shape=[M, N], seed=seed + 2, density=[1, 1], name=\"C\")"
   ]
  },
  {
   "cell_type": "markdown",
   "id": "9824832d-99df-4deb-985a-bdaf4c59551f",
   "metadata": {},
   "source": [
    "## Compile and Run\n",
    "\n",
    "Below is the TeAAL specifications for SPADE. To simulate the accelerator:\n",
    "1. Compile it to HiFiber by running the cell, inserting a new cell\n",
    "2. Run the new cell, which will\n",
    "    - Execute the kernel; multiplying the above defined matrices\n",
    "    - Generate visualizations of the actions of the kernel\n",
    "\n",
    "#### Notes\n",
    "\n",
    "- Small tensors are required for video generation. If you are using large tensors, remove the spacetime specification to generate a kernel that does not produce videos. Outputs can still be checked below.\n",
    "- Partition shapes are decreased accordingly above for visualization purposes. The real SPADE uses problem-specific values for `row_panel_shape`, `col_panel_shape`, `tiles_before_barrier`, and varies `num_pes` depending on the hardware."
   ]
  },
  {
   "cell_type": "markdown",
   "id": "5d1fb03d-db83-4c90-84d4-3313f57849ec",
   "metadata": {},
   "source": [
    "### SpMM\n",
    "\n",
    "The following is the TeAAL specification for the SpMM kernel of SPADE:\n",
    "\n",
    "```yaml\n",
    "einsum:\n",
    "    declaration:\n",
    "        A: [K, M]\n",
    "        B: [K, N]\n",
    "        Z: [M, N]\n",
    "    expressions:\n",
    "        - Z[m, n] = A[k, m] * B[k, n]\n",
    "mapping:\n",
    "    rank-order:\n",
    "        A: [M, K]\n",
    "        B: [K, N]\n",
    "        Z: [M, N]\n",
    "    partitioning:\n",
    "        Z:\n",
    "            K: [uniform_shape(elems_before_barrier), uniform_shape(col_panel_shape)]\n",
    "            M: [uniform_shape(rows_to_all_pes), uniform_shape(row_panel_shape)]\n",
    "            (K1, M0, K0): [flatten()]\n",
    "    loop-order:\n",
    "        Z: [M2, K2, M1, K1M0K0, N]\n",
    "    spacetime:\n",
    "        Z:\n",
    "            space: [M1.coord]\n",
    "            time: [M2, K2, K1M0K0, N]\n",
    "```\n",
    "\n",
    "However, the current TeAAL compiler cannot flatten partitioned ranks above the bottom rank (in this case, `K1`). We present a TeAAL specification that will compile, but only flattens `M0` and `K0`, and a modified version of the resulting HiFiber that flattens all three ranks."
   ]
  },
  {
   "cell_type": "code",
   "execution_count": null,
   "id": "890eda23-6b1b-49fd-8657-f298975d51e5",
   "metadata": {},
   "outputs": [],
   "source": [
    "yaml = \"\"\"\n",
    "einsum:\n",
    "    declaration:\n",
    "        A: [K, M]\n",
    "        B: [K, N]\n",
    "        Z: [M, N]\n",
    "    expressions:\n",
    "        - Z[m, n] = A[k, m] * B[k, n]\n",
    "mapping:\n",
    "    rank-order:\n",
    "        A: [M, K]\n",
    "        B: [K, N]\n",
    "        Z: [M, N]\n",
    "    partitioning:\n",
    "        Z:\n",
    "            K: [uniform_shape(elems_before_barrier), uniform_shape(col_panel_shape)]\n",
    "            M: [uniform_shape(rows_to_all_pes), uniform_shape(row_panel_shape)]\n",
    "            (M0, K0): [flatten()]\n",
    "    loop-order:\n",
    "        Z: [M2, K2, M1, K1, M0K0, N]\n",
    "    spacetime:\n",
    "        Z:\n",
    "            space: [M1.coord]\n",
    "            time: [M2, K2, K1, M0K0, N]\n",
    "\"\"\"\n",
    "\n",
    "utils.compile(yaml)"
   ]
  },
  {
   "cell_type": "markdown",
   "id": "a239444c-ad0a-4a76-9926-2ad2e8408df7",
   "metadata": {},
   "source": [
    "## Check Results\n",
    "\n",
    "Check that generated code computes the correct result.\n",
    "\n",
    "**Note**: Should be used after compiling and running the kernel (above cell)."
   ]
  },
  {
   "cell_type": "code",
   "execution_count": null,
   "id": "383a22f3-1164-4157-80f9-872250db8e12",
   "metadata": {},
   "outputs": [],
   "source": [
    "utils.check_matmul(A_MK, B_KN, Z_MN)"
   ]
  },
  {
   "cell_type": "markdown",
   "id": "8dbded28-891d-4b8f-8912-fe05225a6975",
   "metadata": {},
   "source": [
    "### Modified HiFiber for SpMM\n",
    "\n",
    "The following loopnest is modified from the version produced by the TeAAL specification to include flattening across `(K1, M0, K0)`."
   ]
  },
  {
   "cell_type": "code",
   "execution_count": null,
   "id": "aed160d1-711c-482a-9a99-1e70fd260451",
   "metadata": {},
   "outputs": [],
   "source": [
    "Z_M2M1M0N = Tensor(rank_ids=[\"M2\", \"M1\", \"M0\", \"N\"], name=\"Z\")\n",
    "tmp0 = A_MK\n",
    "tmp1 = tmp0.splitUniform(elems_before_barrier, depth=1)\n",
    "tmp2 = tmp1.splitUniform(col_panel_shape, depth=2)\n",
    "A_MK2K1K0 = tmp2\n",
    "A_MK2K1K0.setRankIds(rank_ids=[\"M\", \"K2\", \"K1\", \"K0\"])\n",
    "tmp3 = A_MK2K1K0\n",
    "tmp4 = tmp3.splitUniform(rows_to_all_pes, depth=0)\n",
    "tmp5 = tmp4.splitUniform(row_panel_shape, depth=1)\n",
    "A_M2M1M0K2K1K0 = tmp5\n",
    "A_M2M1M0K2K1K0.setRankIds(rank_ids=[\"M2\", \"M1\", \"M0\", \"K2\", \"K1\", \"K0\"])\n",
    "tmp6 = B_KN\n",
    "tmp7 = tmp6.splitUniform(elems_before_barrier, depth=0)\n",
    "tmp8 = tmp7.splitUniform(col_panel_shape, depth=1)\n",
    "B_K2K1K0N = tmp8\n",
    "B_K2K1K0N.setRankIds(rank_ids=[\"K2\", \"K1\", \"K0\", \"N\"])\n",
    "z_m2 = Z_M2M1M0N.getRoot()\n",
    "A_M2M1K2K1M0K0 = A_M2M1M0K2K1K0.swizzleRanks(rank_ids=[\"M2\", \"M1\", \"K2\", \"K1\", \"M0\", \"K0\"])\n",
    "tmp9 = A_M2M1K2K1M0K0\n",
    "# Flatten (K1, M0, K0) together\n",
    "tmp10 = tmp9.flattenRanks(depth=3, levels=2, coord_style=\"tuple\")\n",
    "A_M2M1K2K1M0K0_flat = tmp10\n",
    "# Update rank names\n",
    "A_M2M1K2K1M0K0_flat.setRankIds(rank_ids=[\"M2\", \"M1\", \"K2\", \"K1M0K0\"])\n",
    "b_k2 = B_K2K1K0N.getRoot()\n",
    "# Use updated rank names\n",
    "A_M2K2M1K1M0K0 = A_M2M1K2K1M0K0_flat.swizzleRanks(rank_ids=[\"M2\", \"K2\", \"M1\", \"K1M0K0\"])\n",
    "a_m2 = A_M2K2M1K1M0K0.getRoot()\n",
    "canvas = createCanvas(A_M2K2M1K1M0K0, B_K2K1K0N, Z_M2M1M0N)\n",
    "for m2_pos, (m2, (z_m1, a_k2)) in enumerate(z_m2 << a_m2):\n",
    "    for k2_pos, (k2, (a_m1, b_k1)) in enumerate(a_k2 & b_k2):\n",
    "        # Update the name of the A-fiber\n",
    "        for m1, (z_m0, a_k1m0k0) in z_m1 << a_m1:\n",
    "            # Remove the K1 loop and add the new flattened K1M0K0 loop\n",
    "            for k1m0k0_pos, ((k1, m0, k0), a_val) in enumerate(a_k1m0k0):\n",
    "                z_n = z_m0.getPayloadRef(m0)\n",
    "                # Update the access to B\n",
    "                b_n = b_k1.getPayload(k1, k0)\n",
    "                for n_pos, (n, (z_ref, b_val)) in enumerate(z_n << b_n):\n",
    "                    z_ref += a_val * b_val\n",
    "                    # Update the spacetime stamp\n",
    "                    canvas.addActivity((m2, k2, m1, (k1, m0, k0)), (k2, k1, k0, n), (m2, m1, m0, n), spacetime=((m1 - m2,), (m2_pos, k2_pos, k1m0k0_pos, n_pos)))\n",
    "tmp11 = Z_M2M1M0N\n",
    "tmp12 = tmp11.mergeRanks(depth=0, levels=2, coord_style=\"absolute\")\n",
    "tmp12.setRankIds(rank_ids=[\"M\", \"N\"])\n",
    "Z_MN = tmp12\n",
    "displayCanvas(canvas)"
   ]
  },
  {
   "cell_type": "markdown",
   "id": "486c0190-6831-4abb-af46-244126c1bd49",
   "metadata": {},
   "source": [
    "## Check Results\n",
    "\n",
    "Check that generated code computes the correct result.\n",
    "\n",
    "**Note**: Should be used after running the kernel (above cell)."
   ]
  },
  {
   "cell_type": "code",
   "execution_count": null,
   "id": "fa9d24c4-bbe1-4670-8423-e590c69c1bfe",
   "metadata": {},
   "outputs": [],
   "source": [
    "utils.check_matmul(A_MK, B_KN, Z_MN)"
   ]
  },
  {
   "cell_type": "markdown",
   "id": "8a15c913-74bf-47e2-9eb1-ea5667379cf9",
   "metadata": {},
   "source": [
    "### SDDMM\n",
    "\n",
    "The following is the TeAAL specification for the SDDMM kernel of SPADE:\n",
    "\n",
    "```yaml\n",
    "einsum:\n",
    "    declaration:\n",
    "        A: [K, M]\n",
    "        B: [K, N]\n",
    "        C: [M, N]\n",
    "        Z: [M, N]\n",
    "    expressions:\n",
    "        - Z[m, n] = A[k, m] * B[k, n] * C[m, n]\n",
    "mapping:\n",
    "    rank-order:\n",
    "        A: [M, K]\n",
    "        B: [K, N]\n",
    "        C: [M, N]\n",
    "        Z: [M, N]\n",
    "    partitioning:\n",
    "        Z:\n",
    "            K: [uniform_shape(elems_before_barrier), uniform_shape(col_panel_shape)]\n",
    "            M: [uniform_shape(rows_to_all_pes), uniform_shape(row_panel_shape)]\n",
    "            (K1, M0, K0): [flatten()]\n",
    "    loop-order:\n",
    "        Z: [M2, K2, M1, K1M0K0, N]\n",
    "    spacetime:\n",
    "        Z:\n",
    "            space: [M1.coord]\n",
    "            time: [M2, K2, K1M0K0, N]\n",
    "```\n",
    "\n",
    "However, the current TeAAL compiler cannot flatten partitioned ranks above the bottom rank (in this case, `K1`). We present a TeAAL specification that will compile, but only flattens `M0` and `K0`, and a modified version of the resulting HiFiber that flattens all three ranks."
   ]
  },
  {
   "cell_type": "code",
   "execution_count": null,
   "id": "730031dd-f883-4221-b11e-045fc0a8607c",
   "metadata": {},
   "outputs": [],
   "source": [
    "yaml = \"\"\"\n",
    "einsum:\n",
    "    declaration:\n",
    "        A: [K, M]\n",
    "        B: [K, N]\n",
    "        C: [M, N]\n",
    "        Z: [M, N]\n",
    "    expressions:\n",
    "        - Z[m, n] = A[k, m] * B[k, n] * C[m, n]\n",
    "mapping:\n",
    "    rank-order:\n",
    "        A: [M, K]\n",
    "        B: [K, N]\n",
    "        C: [M, N]\n",
    "        Z: [M, N]\n",
    "    partitioning:\n",
    "        Z:\n",
    "            K: [uniform_shape(elems_before_barrier), uniform_shape(col_panel_shape)]\n",
    "            M: [uniform_shape(rows_to_all_pes), uniform_shape(row_panel_shape)]\n",
    "            (M0, K0): [flatten()]\n",
    "    loop-order:\n",
    "        Z: [M2, K2, M1, K1, M0K0, N]\n",
    "    spacetime:\n",
    "        Z:\n",
    "            space: [M1.coord]\n",
    "            time: [M2, K2, K1, M0K0, N]\n",
    "\"\"\"\n",
    "\n",
    "utils.compile(yaml)"
   ]
  },
  {
   "cell_type": "markdown",
   "id": "477b9a99-c668-4e72-a714-7778ca21a355",
   "metadata": {},
   "source": [
    "## Check Results\n",
    "\n",
    "Check that generated code computes the correct result.\n",
    "\n",
    "**Note**: Should be used after compiling and running the kernel (above cell)."
   ]
  },
  {
   "cell_type": "code",
   "execution_count": null,
   "id": "d17965b1-5c92-4cdf-97aa-9311e70e9e58",
   "metadata": {},
   "outputs": [],
   "source": [
    "utils.check_sddmm(A_MK, B_KN, C_MN, Z_MN)"
   ]
  },
  {
   "cell_type": "markdown",
   "id": "c60c3cdc-7a73-4f05-958b-d57a08e2ae72",
   "metadata": {},
   "source": [
    "### Modified HiFiber for SDDMM\n",
    "\n",
    "The following loopnest is modified from the version produced by the TeAAL specification to include flattening across `(K1, M0, K0)`."
   ]
  },
  {
   "cell_type": "code",
   "execution_count": null,
   "id": "2fa5c6b9-4425-42cf-ba9c-8d13d5761f56",
   "metadata": {},
   "outputs": [],
   "source": [
    "Z_M2M1M0N = Tensor(rank_ids=[\"M2\", \"M1\", \"M0\", \"N\"], name=\"Z\")\n",
    "tmp0 = A_MK\n",
    "tmp1 = tmp0.splitUniform(rows_to_all_pes, depth=0)\n",
    "tmp2 = tmp1.splitUniform(row_panel_shape, depth=1)\n",
    "A_M2M1M0K = tmp2\n",
    "A_M2M1M0K.setRankIds(rank_ids=[\"M2\", \"M1\", \"M0\", \"K\"])\n",
    "tmp3 = A_M2M1M0K\n",
    "tmp4 = tmp3.splitUniform(elems_before_barrier, depth=3)\n",
    "tmp5 = tmp4.splitUniform(col_panel_shape, depth=4)\n",
    "A_M2M1M0K2K1K0 = tmp5\n",
    "A_M2M1M0K2K1K0.setRankIds(rank_ids=[\"M2\", \"M1\", \"M0\", \"K2\", \"K1\", \"K0\"])\n",
    "tmp6 = B_KN\n",
    "tmp7 = tmp6.splitUniform(elems_before_barrier, depth=0)\n",
    "tmp8 = tmp7.splitUniform(col_panel_shape, depth=1)\n",
    "B_K2K1K0N = tmp8\n",
    "B_K2K1K0N.setRankIds(rank_ids=[\"K2\", \"K1\", \"K0\", \"N\"])\n",
    "tmp9 = C_MN\n",
    "tmp10 = tmp9.splitUniform(rows_to_all_pes, depth=0)\n",
    "tmp11 = tmp10.splitUniform(row_panel_shape, depth=1)\n",
    "C_M2M1M0N = tmp11\n",
    "C_M2M1M0N.setRankIds(rank_ids=[\"M2\", \"M1\", \"M0\", \"N\"])\n",
    "z_m2 = Z_M2M1M0N.getRoot()\n",
    "A_M2M1K2K1M0K0 = A_M2M1M0K2K1K0.swizzleRanks(rank_ids=[\"M2\", \"M1\", \"K2\", \"K1\", \"M0\", \"K0\"])\n",
    "tmp12 = A_M2M1K2K1M0K0\n",
    "# Flatten (K1, M0, K0) together\n",
    "tmp13 = tmp12.flattenRanks(depth=3, levels=2, coord_style=\"tuple\")\n",
    "A_M2M1K2K1M0K0_flat = tmp13\n",
    "# Update rank names\n",
    "A_M2M1K2K1M0K0_flat.setRankIds(rank_ids=[\"M2\", \"M1\", \"K2\", \"K1M0K0\"])\n",
    "b_k2 = B_K2K1K0N.getRoot()\n",
    "c_m2 = C_M2M1M0N.getRoot()\n",
    "# Use updated rank names\n",
    "A_M2K2M1K1M0K0 = A_M2M1K2K1M0K0_flat.swizzleRanks(rank_ids=[\"M2\", \"K2\", \"M1\", \"K1M0K0\"])\n",
    "a_m2 = A_M2K2M1K1M0K0.getRoot()\n",
    "canvas = createCanvas(A_M2K2M1K1M0K0, B_K2K1K0N, C_M2M1M0N, Z_M2M1M0N)\n",
    "for m2_pos, (m2, (z_m1, (a_k2, c_m1))) in enumerate(z_m2 << (a_m2 & c_m2)):\n",
    "    for k2_pos, (k2, (a_m1, b_k1)) in enumerate(a_k2 & b_k2):\n",
    "        # Update the name of the A-fiber\n",
    "        for m1, (z_m0, (a_k1m0k0, c_m0)) in z_m1 << (a_m1 & c_m1):\n",
    "            # Remove the K1 loop and add the new flattened K1M0K0 loop\n",
    "            for k1m0k0_pos, ((k1, m0, k0), a_val) in enumerate(a_k1m0k0):\n",
    "                z_n = z_m0.getPayloadRef(m0)\n",
    "                # Update the access to B\n",
    "                b_n = b_k1.getPayload(k1, k0)\n",
    "                c_n = c_m0.getPayload(m0)\n",
    "                for n_pos, (n, (z_ref, (b_val, c_val))) in enumerate(z_n << (b_n & c_n)):\n",
    "                    z_ref += a_val * b_val * c_val\n",
    "                    # Update the spacetime stamp\n",
    "                    canvas.addActivity((m2, k2, m1, (k1, m0, k0)), (k2, k1, k0, n), (m2, m1, m0, n), (m2, m1, m0, n), spacetime=((m1 - m2,), (m2_pos, k2_pos, k1m0k0_pos, n_pos)))\n",
    "tmp14 = Z_M2M1M0N\n",
    "tmp15 = tmp14.mergeRanks(depth=0, levels=2, coord_style=\"absolute\")\n",
    "tmp15.setRankIds(rank_ids=[\"M\", \"N\"])\n",
    "Z_MN = tmp15\n",
    "displayCanvas(canvas)"
   ]
  },
  {
   "cell_type": "markdown",
   "id": "90988744-d654-427e-b181-a7ec2ade3dfa",
   "metadata": {},
   "source": [
    "## Check Results\n",
    "\n",
    "Check that generated code computes the correct result.\n",
    "\n",
    "**Note**: Should be used after running the kernel (above cell)."
   ]
  },
  {
   "cell_type": "code",
   "execution_count": null,
   "id": "ea772621-927a-4ab1-93e3-a38d51d6fb83",
   "metadata": {},
   "outputs": [],
   "source": [
    "utils.check_sddmm(A_MK, B_KN, C_MN, Z_MN)"
   ]
  }
 ],
 "metadata": {
  "kernelspec": {
   "display_name": "Python 3 (ipykernel)",
   "language": "python",
   "name": "python3"
  },
  "language_info": {
   "codemirror_mode": {
    "name": "ipython",
    "version": 3
   },
   "file_extension": ".py",
   "mimetype": "text/x-python",
   "name": "python",
   "nbconvert_exporter": "python",
   "pygments_lexer": "ipython3",
   "version": "3.12.7"
  }
 },
 "nbformat": 4,
 "nbformat_minor": 5
}
